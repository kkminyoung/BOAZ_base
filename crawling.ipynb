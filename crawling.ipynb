{
 "cells": [
  {
   "cell_type": "code",
   "execution_count": 1,
   "metadata": {
    "ExecuteTime": {
     "end_time": "2020-07-26T17:05:34.297895Z",
     "start_time": "2020-07-26T17:05:33.013233Z"
    }
   },
   "outputs": [],
   "source": [
    "from selenium import webdriver\n",
    "from bs4 import BeautifulSoup\n",
    "import time"
   ]
  },
  {
   "cell_type": "code",
   "execution_count": 2,
   "metadata": {
    "ExecuteTime": {
     "end_time": "2020-07-26T17:08:02.419804Z",
     "start_time": "2020-07-26T17:07:52.129692Z"
    }
   },
   "outputs": [],
   "source": [
    "# 드라이버 경로 지정\n",
    "driver = webdriver.Chrome(executable_path=r'chromedriver.exe')\n",
    "time.sleep(2)\n",
    "\n",
    "# 윈도우 크기 조절\n",
    "driver.maximize_window()"
   ]
  },
  {
   "cell_type": "code",
   "execution_count": 3,
   "metadata": {
    "ExecuteTime": {
     "end_time": "2020-07-26T17:14:05.704347Z",
     "start_time": "2020-07-26T17:14:03.350175Z"
    }
   },
   "outputs": [],
   "source": [
    "# 인스타그램으로 이동\n",
    "keyword = '고양이'\n",
    "url = 'https://www.instagram.com/explore/tags/' + keyword\n",
    "\n",
    "driver.get(url)"
   ]
  },
  {
   "cell_type": "code",
   "execution_count": 4,
   "metadata": {
    "ExecuteTime": {
     "end_time": "2020-07-26T17:08:31.244594Z",
     "start_time": "2020-07-26T17:08:31.134110Z"
    }
   },
   "outputs": [],
   "source": [
    "# 로그인\n",
    "driver.find_element_by_xpath('//*[@id=\"react-root\"]/section/nav/div[2]/div/div/div[3]/div/span/a[1]/button').click()"
   ]
  },
  {
   "cell_type": "code",
   "execution_count": 5,
   "metadata": {
    "ExecuteTime": {
     "end_time": "2020-07-26T17:09:21.744437Z",
     "start_time": "2020-07-26T17:09:21.524959Z"
    }
   },
   "outputs": [
    {
     "name": "stdout",
     "output_type": "stream",
     "text": [
      "ID: computer_statistics\n",
      "PW: alsdud102\n"
     ]
    }
   ],
   "source": [
    "# ID와 비밀번호 입력\n",
    "ID = input('ID: ')\n",
    "PW = input('PW: ')\n",
    "\n",
    "driver.find_element_by_xpath('//*[@id=\"react-root\"]/section/main/div/article/div/div[1]/div/form/div[2]/div/label/input').send_keys(ID)\n",
    "driver.find_element_by_xpath('//*[@id=\"react-root\"]/section/main/div/article/div/div[1]/div/form/div[3]/div/label/input').send_keys(PW)"
   ]
  },
  {
   "cell_type": "code",
   "execution_count": 6,
   "metadata": {
    "ExecuteTime": {
     "end_time": "2020-07-26T17:09:21.744437Z",
     "start_time": "2020-07-26T17:09:21.524959Z"
    }
   },
   "outputs": [],
   "source": [
    "# 로그인 버튼 클릭\n",
    "driver.find_element_by_xpath('//*[@id=\"react-root\"]/section/main/div/article/div/div[1]/div/form/div[4]').click()"
   ]
  },
  {
   "cell_type": "code",
   "execution_count": 12,
   "metadata": {
    "ExecuteTime": {
     "end_time": "2020-07-26T17:14:19.587386Z",
     "start_time": "2020-07-26T17:14:19.542198Z"
    }
   },
   "outputs": [],
   "source": [
    "# HTML 소스 코드 가지고 오기\n",
    "html = driver.page_source"
   ]
  },
  {
   "cell_type": "code",
   "execution_count": 13,
   "metadata": {
    "ExecuteTime": {
     "end_time": "2020-07-26T17:14:19.974360Z",
     "start_time": "2020-07-26T17:14:19.944125Z"
    }
   },
   "outputs": [],
   "source": [
    "# BeautifulSoup 소스 코드 입력\n",
    "soup = BeautifulSoup(html, 'lxml')"
   ]
  },
  {
   "cell_type": "code",
   "execution_count": 14,
   "metadata": {
    "ExecuteTime": {
     "end_time": "2020-07-26T17:47:04.437881Z",
     "start_time": "2020-07-26T17:47:04.431901Z"
    }
   },
   "outputs": [
    {
     "name": "stdout",
     "output_type": "stream",
     "text": [
      "https://scontent-ssn1-1.cdninstagram.com/v/t51.2885-15/sh0.08/e35/c0.178.1440.1440a/s640x640/116793395_219112906028781_1252033538026359024_n.jpg?_nc_ht=scontent-ssn1-1.cdninstagram.com&_nc_cat=1&_nc_ohc=An3PSzmdIBQAX_f9U1M&oh=c2bdc59e2307000be34e36dd46fa0685&oe=5F4BC321\n"
     ]
    }
   ],
   "source": [
    "# 이미지 URL 찾기\n",
    "img_url = soup.find('img', attrs = {'class' : 'FFVAD'}).get('src')\n",
    "print(img_url)"
   ]
  },
  {
   "cell_type": "code",
   "execution_count": 15,
   "metadata": {
    "ExecuteTime": {
     "end_time": "2020-07-26T17:05:37.804066Z",
     "start_time": "2020-07-26T17:05:37.800118Z"
    }
   },
   "outputs": [],
   "source": [
    "from urllib.request import urlretrieve"
   ]
  },
  {
   "cell_type": "code",
   "execution_count": 19,
   "metadata": {
    "ExecuteTime": {
     "end_time": "2020-07-26T17:20:15.416477Z",
     "start_time": "2020-07-26T17:20:14.328513Z"
    }
   },
   "outputs": [
    {
     "data": {
      "text/plain": [
       "('고양이.jpg', <http.client.HTTPMessage at 0x2bbf6677788>)"
      ]
     },
     "execution_count": 19,
     "metadata": {},
     "output_type": "execute_result"
    }
   ],
   "source": [
    "# 폴더에 사진 저장하기\n",
    "urlretrieve(img_url, filename=''+ keyword + '.jpg')"
   ]
  },
  {
   "cell_type": "code",
   "execution_count": 20,
   "metadata": {
    "ExecuteTime": {
     "end_time": "2020-07-26T17:05:46.719968Z",
     "start_time": "2020-07-26T17:05:46.717003Z"
    }
   },
   "outputs": [],
   "source": [
    "from selenium.webdriver.common.keys import Keys"
   ]
  },
  {
   "cell_type": "code",
   "execution_count": 21,
   "metadata": {
    "ExecuteTime": {
     "end_time": "2020-07-26T17:31:19.894720Z",
     "start_time": "2020-07-26T17:31:19.828410Z"
    }
   },
   "outputs": [],
   "source": [
    "# 스크롤 다운 방법\n",
    "body = driver.find_element_by_css_selector('body')\n",
    "body.send_keys(Keys.END)"
   ]
  },
  {
   "cell_type": "code",
   "execution_count": 22,
   "metadata": {
    "ExecuteTime": {
     "end_time": "2020-07-26T17:32:33.401519Z",
     "start_time": "2020-07-26T17:32:28.147746Z"
    }
   },
   "outputs": [],
   "source": [
    "# 스크롤 5번 내리기\n",
    "for rep in range(5):\n",
    "    body.send_keys(Keys.END)\n",
    "    time.sleep(1)"
   ]
  },
  {
   "cell_type": "code",
   "execution_count": 23,
   "metadata": {
    "ExecuteTime": {
     "end_time": "2020-07-26T17:34:02.901926Z",
     "start_time": "2020-07-26T17:34:02.825092Z"
    }
   },
   "outputs": [],
   "source": [
    "# BeautifulSoup 소스 코드 입력\n",
    "html=driver.page_source\n",
    "soup=BeautifulSoup(html, 'lxml')"
   ]
  },
  {
   "cell_type": "code",
   "execution_count": 24,
   "metadata": {
    "ExecuteTime": {
     "end_time": "2020-07-26T17:34:51.522100Z",
     "start_time": "2020-07-26T17:34:51.514090Z"
    }
   },
   "outputs": [],
   "source": [
    "# 이미지 URL 리스트 찾기\n",
    "img_list = soup.find_all('img', attrs = {'class' : 'FFVAD'})"
   ]
  },
  {
   "cell_type": "code",
   "execution_count": 25,
   "metadata": {
    "ExecuteTime": {
     "end_time": "2020-07-26T17:49:20.629884Z",
     "start_time": "2020-07-26T17:49:20.624936Z"
    }
   },
   "outputs": [
    {
     "name": "stdout",
     "output_type": "stream",
     "text": [
      "51 개의 사진을 수집하였습니다.\n"
     ]
    }
   ],
   "source": [
    "# 이미지 URL 리스트에서 이미지 URL만 가지고 오기\n",
    "img_url_list = []\n",
    "for img in img_list:\n",
    "    img_url = img.get('src')\n",
    "    img_url_list.append(img_url)\n",
    "    \n",
    "print(len(img_url_list), '개의 사진을 수집하였습니다.')"
   ]
  },
  {
   "cell_type": "code",
   "execution_count": 27,
   "metadata": {
    "ExecuteTime": {
     "end_time": "2020-07-26T17:38:33.135945Z",
     "start_time": "2020-07-26T17:37:06.357150Z"
    },
    "scrolled": true
   },
   "outputs": [],
   "source": [
    "# 폴더에 사진 저장하기\n",
    "n=1\n",
    "for img_url in img_url_list:\n",
    "    urlretrieve(img_url, filename='' + keyword + str(n) +'.jpg')\n",
    "    time.sleep(1)\n",
    "    n += 1"
   ]
  },
  {
   "cell_type": "code",
   "execution_count": 28,
   "metadata": {
    "ExecuteTime": {
     "end_time": "2020-07-26T17:25:50.065036Z",
     "start_time": "2020-07-26T17:24:47.521861Z"
    }
   },
   "outputs": [],
   "source": [
    "# 위의 작업을 반복\n",
    "img_url_list = []\n",
    "for k in range(10): # 10번 반복하는 경우 약 1분 3초 정도 소요\n",
    "    for rep in range(5):\n",
    "        body.send_keys(Keys.END)\n",
    "        time.sleep(1)\n",
    "    time.sleep(1)\n",
    "    \n",
    "    html=driver.page_source\n",
    "    soup=BeautifulSoup(html, 'lxml')\n",
    "    \n",
    "    img_list = soup.find_all('img', attrs = {'class' : 'FFVAD'})\n",
    "    for img in img_list:\n",
    "        img_url = img.get('src')\n",
    "        img_url_list.append(img_url)"
   ]
  },
  {
   "cell_type": "code",
   "execution_count": 29,
   "metadata": {
    "ExecuteTime": {
     "end_time": "2020-07-26T17:36:45.256753Z",
     "start_time": "2020-07-26T17:36:45.251765Z"
    }
   },
   "outputs": [
    {
     "name": "stdout",
     "output_type": "stream",
     "text": [
      "522 개의 사진에서\n",
      "440 개의 사진으로\n"
     ]
    }
   ],
   "source": [
    "print(len(img_url_list), '개의 사진에서')\n",
    "img_url_list = list(set(img_url_list)) # 중복값 제거\n",
    "print(len(img_url_list), '개의 사진으로')"
   ]
  },
  {
   "cell_type": "code",
   "execution_count": 31,
   "metadata": {},
   "outputs": [],
   "source": [
    "n=1\n",
    "for img_url in img_url_list:\n",
    "    urlretrieve(img_url, filename='' + keyword + str(n) +'.jpg')\n",
    "    time.sleep(1)\n",
    "    n += 1"
   ]
  },
  {
   "cell_type": "code",
   "execution_count": 32,
   "metadata": {
    "ExecuteTime": {
     "end_time": "2020-07-26T17:51:22.572655Z",
     "start_time": "2020-07-26T17:51:20.283715Z"
    }
   },
   "outputs": [],
   "source": [
    "driver.quit()"
   ]
  },
  {
   "cell_type": "markdown",
   "metadata": {},
   "source": [
    "출처 - 보아즈 13기 이성배 님 공동세션강의"
   ]
  }
 ],
 "metadata": {
  "kernelspec": {
   "display_name": "Python 3",
   "language": "python",
   "name": "python3"
  },
  "language_info": {
   "codemirror_mode": {
    "name": "ipython",
    "version": 3
   },
   "file_extension": ".py",
   "mimetype": "text/x-python",
   "name": "python",
   "nbconvert_exporter": "python",
   "pygments_lexer": "ipython3",
   "version": "3.7.6"
  }
 },
 "nbformat": 4,
 "nbformat_minor": 2
}
