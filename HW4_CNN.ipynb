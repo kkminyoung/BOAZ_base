{
 "cells": [
  {
   "cell_type": "markdown",
   "metadata": {
    "colab_type": "text",
    "id": "UyqhB_SYsl4U"
   },
   "source": [
    "BOAZ 15기를 위한 CNN 실습&과제 코드입니다.  \n",
    "모두들 화이팅하세요! :D  \n",
    "(로컬에서 실행할 경우 tensorflow 2.0 이상 환경을 권장합니다)  \n",
    "-다현-"
   ]
  },
  {
   "cell_type": "code",
   "execution_count": 1,
   "metadata": {
    "colab": {
     "base_uri": "https://localhost:8080/",
     "height": 36
    },
    "colab_type": "code",
    "id": "4ik9jJ_WbA6x",
    "outputId": "3cfb53ef-cd5a-46f2-894e-b5e02383369a"
   },
   "outputs": [
    {
     "name": "stdout",
     "output_type": "stream",
     "text": [
      "Drive already mounted at /content/drive; to attempt to forcibly remount, call drive.mount(\"/content/drive\", force_remount=True).\n"
     ]
    }
   ],
   "source": [
    "from google.colab import drive\n",
    "drive.mount(\"/content/drive\")"
   ]
  },
  {
   "cell_type": "markdown",
   "metadata": {
    "colab_type": "text",
    "id": "QL0V3t2HD_aI"
   },
   "source": [
    "## Library Import"
   ]
  },
  {
   "cell_type": "code",
   "execution_count": 2,
   "metadata": {
    "colab": {},
    "colab_type": "code",
    "id": "eqXktTz3D_Hb"
   },
   "outputs": [],
   "source": [
    "import numpy as np\n",
    "import tensorflow as tf\n",
    "from tensorflow.keras.layers import Input, Flatten, Dense, Conv2D, BatchNormalization, ReLU, LeakyReLU, Dropout, Activation, MaxPooling2D\n",
    "from tensorflow.keras.models import Model, load_model\n",
    "from tensorflow.keras.optimizers import Adam\n",
    "from tensorflow.keras.utils import to_categorical\n",
    "import tensorflow.keras.backend as K \n",
    "from tensorflow.keras.datasets import cifar10\n",
    "tf.get_logger().setLevel(\"ERROR\")\n",
    "import os\n",
    "base_path = \"/content/gdrive/My Drive/보아즈/\""
   ]
  },
  {
   "cell_type": "code",
   "execution_count": 3,
   "metadata": {
    "colab": {},
    "colab_type": "code",
    "id": "vZ0UwWJkD95A"
   },
   "outputs": [],
   "source": [
    "# class 개수 지정\n",
    "NUM_CLASSES = 10"
   ]
  },
  {
   "cell_type": "code",
   "execution_count": 4,
   "metadata": {
    "colab": {},
    "colab_type": "code",
    "id": "t2gF2OEIEH-3"
   },
   "outputs": [],
   "source": [
    "# CIFAR-10 dataset load\n",
    "(X_train, y_train), (X_test, y_test) = cifar10.load_data()"
   ]
  },
  {
   "cell_type": "markdown",
   "metadata": {
    "colab_type": "text",
    "id": "-DJIttVQK1LS"
   },
   "source": [
    "- **Assignment 1: X_train, X_test, y_train, y_test의 shape과 형식을 출력해보세요. (각각 출력해도 됩니다!)**"
   ]
  },
  {
   "cell_type": "code",
   "execution_count": 5,
   "metadata": {
    "colab": {
     "base_uri": "https://localhost:8080/",
     "height": 92
    },
    "colab_type": "code",
    "id": "S4CcD78lKqkT",
    "outputId": "e77fcaa1-068b-4a62-8f19-4d86e413ef39"
   },
   "outputs": [
    {
     "name": "stdout",
     "output_type": "stream",
     "text": [
      "(50000, 32, 32, 3)\n",
      "(10000, 32, 32, 3)\n",
      "(50000, 1)\n",
      "(10000, 1)\n"
     ]
    }
   ],
   "source": [
    "print(X_train.shape)\n",
    "print(X_test.shape)\n",
    "print(y_train.shape)\n",
    "print(y_test.shape)"
   ]
  },
  {
   "cell_type": "code",
   "execution_count": 6,
   "metadata": {
    "colab": {},
    "colab_type": "code",
    "id": "Bu2stYg1EJ_S"
   },
   "outputs": [],
   "source": [
    "# 기본적으로 image data는 pixel channel마다 0~255 integer로 구성되는데,\n",
    "# 신경망은 input이 -1~1 범위에서 가장 잘 동작하기 때문에 데이터를 255로 나눈다.\n",
    "X_train = X_train.astype('float32') / 255.0\n",
    "X_test = X_test.astype('float32') / 255.0"
   ]
  },
  {
   "cell_type": "code",
   "execution_count": 7,
   "metadata": {
    "colab": {},
    "colab_type": "code",
    "id": "NJvIv43RLrnG"
   },
   "outputs": [],
   "source": [
    "# image의 integer label을 one-hot encoding vector로 바꾼다.\n",
    "y_train = to_categorical(y_train, NUM_CLASSES)\n",
    "y_test = to_categorical(y_test, NUM_CLASSES)"
   ]
  },
  {
   "cell_type": "markdown",
   "metadata": {
    "colab_type": "text",
    "id": "i7H2w8wjL7jD"
   },
   "source": [
    "- **Assignment 2: 변환된 y_train, y_test의 shape을 출력해보세요.**"
   ]
  },
  {
   "cell_type": "code",
   "execution_count": 8,
   "metadata": {
    "colab": {
     "base_uri": "https://localhost:8080/",
     "height": 55
    },
    "colab_type": "code",
    "id": "SKEGGnqRMA3Q",
    "outputId": "de01eed9-f11d-48cd-e02d-355848b3a690"
   },
   "outputs": [
    {
     "name": "stdout",
     "output_type": "stream",
     "text": [
      "(50000, 10)\n",
      "(10000, 10)\n"
     ]
    }
   ],
   "source": [
    "## 여기에!\n",
    "print(y_train.shape)\n",
    "print(y_test.shape)"
   ]
  },
  {
   "cell_type": "markdown",
   "metadata": {
    "colab_type": "text",
    "id": "ADmkfyo1MYRI"
   },
   "source": [
    "- **Assignment 3: X_train에서, index 54의 이미지에서 (12,13) 위치에 해당하는 픽셀의 초록 채널(1) 값을 출력해보세요. (힌트: X_train[?,?,?,?])**"
   ]
  },
  {
   "cell_type": "code",
   "execution_count": 9,
   "metadata": {
    "colab": {
     "base_uri": "https://localhost:8080/",
     "height": 36
    },
    "colab_type": "code",
    "id": "CdjAEgoOMorw",
    "outputId": "21f7ff82-81a5-4e34-8d5c-853fff7af9b7"
   },
   "outputs": [
    {
     "name": "stdout",
     "output_type": "stream",
     "text": [
      "0.36862746\n"
     ]
    }
   ],
   "source": [
    "## 여기에!\n",
    "print(X_train[54,12,13,1])"
   ]
  },
  {
   "cell_type": "markdown",
   "metadata": {
    "colab_type": "text",
    "id": "vW9tVHDOEYWa"
   },
   "source": [
    "## Modeling"
   ]
  },
  {
   "cell_type": "markdown",
   "metadata": {
    "colab_type": "text",
    "id": "xQ3ZtsPmI_i6"
   },
   "source": [
    "Keras에서 신경망 구조를 정의하는 방법은 **Sequential 모델**과 **함수형 API** 두 가지가 있습니다.  \n",
    "\n",
    "Sequential 모델은 일렬로 층을 쌓은 네트워크를 빠르게 만들 때 사용하기 좋습니다. 즉 어떤 분기가 없이 이전 층이 그대로 다음 층으로 연결됩니다.  \n",
    "하지만 한 층의 출력이 여러 개의 별도의 층으로 전달되거나, 한 층이 여러 층으로부터 입력을 받는 등의 가지가 있는 네트워크를 만들기 위해서는 유연성이 많은 함수형 API를 사용하는 것이 좋습니다.  \n",
    "Keras에서도 단순한 모델을 만들더라도 Sequential 모델보다 함수형 API를 권장합니다. 장기적으로 보면 모델이 점점 복잡한 구조가 될 수 있기 때문입니다.  \n",
    "함수형 API는 Deep Neural Network 구조를 설계하는 데에 있어 엄청난 자유를 제공합니다.\n",
    "\n",
    "따라서 본 assignment에서는 함수형 API를 사용하여 Modeling을 진행하였습니다."
   ]
  },
  {
   "cell_type": "code",
   "execution_count": 10,
   "metadata": {
    "colab": {},
    "colab_type": "code",
    "id": "QRiJJ77IELxS"
   },
   "outputs": [],
   "source": [
    "input_layer = Input(shape=(32,32,3))\n",
    "\n",
    "\n",
    "x = Conv2D(filters=32, kernel_size=3, strides=1, padding='same')(input_layer)\n",
    "x = BatchNormalization()(x)\n",
    "x = LeakyReLU()(x)\n",
    "\n",
    "x = Conv2D(filters=32, kernel_size=3, strides=2, padding='same')(x)\n",
    "x = LeakyReLU()(x)\n",
    "\n",
    "x = Conv2D(filters=64, kernel_size=3, strides=1, padding='same')(x)\n",
    "x = LeakyReLU()(x)\n",
    "\n",
    "x = Conv2D(filters=64, kernel_size=3, strides=2, padding='same')(x)\n",
    "x = LeakyReLU()(x)\n",
    "\n",
    "x = Flatten()(x)\n",
    "\n",
    "x = Dense(128)(x)\n",
    "x = LeakyReLU()(x)\n",
    "x = Dropout(rate=0.5)(x)\n",
    "\n",
    "x = Dense(NUM_CLASSES)(x)\n",
    "output_layer = Activation('softmax')(x)\n",
    "\n",
    "\n",
    "model = Model(input_layer, output_layer)"
   ]
  },
  {
   "cell_type": "code",
   "execution_count": 11,
   "metadata": {
    "colab": {
     "base_uri": "https://localhost:8080/",
     "height": 764
    },
    "colab_type": "code",
    "id": "1s699AJIE4KK",
    "outputId": "b5486261-fa5d-4337-8fd9-3bd561d449d6"
   },
   "outputs": [
    {
     "name": "stdout",
     "output_type": "stream",
     "text": [
      "Model: \"functional_1\"\n",
      "_________________________________________________________________\n",
      "Layer (type)                 Output Shape              Param #   \n",
      "=================================================================\n",
      "input_1 (InputLayer)         [(None, 32, 32, 3)]       0         \n",
      "_________________________________________________________________\n",
      "conv2d (Conv2D)              (None, 32, 32, 32)        896       \n",
      "_________________________________________________________________\n",
      "batch_normalization (BatchNo (None, 32, 32, 32)        128       \n",
      "_________________________________________________________________\n",
      "leaky_re_lu (LeakyReLU)      (None, 32, 32, 32)        0         \n",
      "_________________________________________________________________\n",
      "conv2d_1 (Conv2D)            (None, 16, 16, 32)        9248      \n",
      "_________________________________________________________________\n",
      "leaky_re_lu_1 (LeakyReLU)    (None, 16, 16, 32)        0         \n",
      "_________________________________________________________________\n",
      "conv2d_2 (Conv2D)            (None, 16, 16, 64)        18496     \n",
      "_________________________________________________________________\n",
      "leaky_re_lu_2 (LeakyReLU)    (None, 16, 16, 64)        0         \n",
      "_________________________________________________________________\n",
      "conv2d_3 (Conv2D)            (None, 8, 8, 64)          36928     \n",
      "_________________________________________________________________\n",
      "leaky_re_lu_3 (LeakyReLU)    (None, 8, 8, 64)          0         \n",
      "_________________________________________________________________\n",
      "flatten (Flatten)            (None, 4096)              0         \n",
      "_________________________________________________________________\n",
      "dense (Dense)                (None, 128)               524416    \n",
      "_________________________________________________________________\n",
      "leaky_re_lu_4 (LeakyReLU)    (None, 128)               0         \n",
      "_________________________________________________________________\n",
      "dropout (Dropout)            (None, 128)               0         \n",
      "_________________________________________________________________\n",
      "dense_1 (Dense)              (None, 10)                1290      \n",
      "_________________________________________________________________\n",
      "activation (Activation)      (None, 10)                0         \n",
      "=================================================================\n",
      "Total params: 591,402\n",
      "Trainable params: 591,338\n",
      "Non-trainable params: 64\n",
      "_________________________________________________________________\n"
     ]
    }
   ],
   "source": [
    "model.summary()"
   ]
  },
  {
   "cell_type": "markdown",
   "metadata": {
    "colab_type": "text",
    "id": "gNZvLsDxFAci"
   },
   "source": [
    "## Train"
   ]
  },
  {
   "cell_type": "code",
   "execution_count": 12,
   "metadata": {
    "colab": {},
    "colab_type": "code",
    "id": "aFLEGUm-E53f"
   },
   "outputs": [],
   "source": [
    "model.compile(loss='categorical_crossentropy', optimizer=Adam(lr=0.0005), metrics=['accuracy'])"
   ]
  },
  {
   "cell_type": "markdown",
   "metadata": {
    "colab_type": "text",
    "id": "xON7dDYUM0wq"
   },
   "source": [
    "- **Assignment 4: loss를 categorical_crossentropy로 설정한 이유는 무엇일까요?**\n",
    "- 답: 10개의 범주를 가진 다중클래스 분류 문제이기 때문"
   ]
  },
  {
   "cell_type": "code",
   "execution_count": 13,
   "metadata": {
    "colab": {},
    "colab_type": "code",
    "id": "CX2mk5jfFVnh"
   },
   "outputs": [],
   "source": [
    "BATCH_SIZE = 32\n",
    "EPOCHS = 10"
   ]
  },
  {
   "cell_type": "code",
   "execution_count": 14,
   "metadata": {
    "colab": {
     "base_uri": "https://localhost:8080/",
     "height": 409
    },
    "colab_type": "code",
    "id": "NafdP2o1FLhR",
    "outputId": "36af1697-0c02-48d1-c7d8-1f7d2e16d9b6"
   },
   "outputs": [
    {
     "name": "stdout",
     "output_type": "stream",
     "text": [
      "Epoch 1/10\n",
      "1563/1563 [==============================] - 15s 10ms/step - loss: 1.4714 - accuracy: 0.4745 - val_loss: 1.1939 - val_accuracy: 0.5848\n",
      "Epoch 2/10\n",
      "1563/1563 [==============================] - 15s 10ms/step - loss: 1.1118 - accuracy: 0.6124 - val_loss: 1.0157 - val_accuracy: 0.6436\n",
      "Epoch 3/10\n",
      "1563/1563 [==============================] - 15s 9ms/step - loss: 0.9670 - accuracy: 0.6625 - val_loss: 0.9870 - val_accuracy: 0.6542\n",
      "Epoch 4/10\n",
      "1563/1563 [==============================] - 15s 9ms/step - loss: 0.8811 - accuracy: 0.6924 - val_loss: 0.9746 - val_accuracy: 0.6599\n",
      "Epoch 5/10\n",
      "1563/1563 [==============================] - 15s 9ms/step - loss: 0.8230 - accuracy: 0.7121 - val_loss: 0.9282 - val_accuracy: 0.6833\n",
      "Epoch 6/10\n",
      "1563/1563 [==============================] - 15s 9ms/step - loss: 0.7625 - accuracy: 0.7334 - val_loss: 0.9964 - val_accuracy: 0.6634\n",
      "Epoch 7/10\n",
      "1563/1563 [==============================] - 15s 9ms/step - loss: 0.7166 - accuracy: 0.7497 - val_loss: 1.0845 - val_accuracy: 0.6501\n",
      "Epoch 8/10\n",
      "1563/1563 [==============================] - 15s 9ms/step - loss: 0.6743 - accuracy: 0.7634 - val_loss: 0.9284 - val_accuracy: 0.6824\n",
      "Epoch 9/10\n",
      "1563/1563 [==============================] - 15s 9ms/step - loss: 0.6326 - accuracy: 0.7768 - val_loss: 0.8756 - val_accuracy: 0.7115\n",
      "Epoch 10/10\n",
      "1563/1563 [==============================] - 15s 9ms/step - loss: 0.6000 - accuracy: 0.7880 - val_loss: 0.9465 - val_accuracy: 0.6969\n"
     ]
    },
    {
     "data": {
      "text/plain": [
       "<tensorflow.python.keras.callbacks.History at 0x7f49903aea90>"
      ]
     },
     "execution_count": 14,
     "metadata": {
      "tags": []
     },
     "output_type": "execute_result"
    }
   ],
   "source": [
    "model.fit(X_train,\n",
    "          y_train,\n",
    "          batch_size=BATCH_SIZE,\n",
    "          epochs=EPOCHS,\n",
    "          shuffle=True,\n",
    "          validation_data=(X_test, y_test))"
   ]
  },
  {
   "cell_type": "code",
   "execution_count": 15,
   "metadata": {
    "colab": {
     "base_uri": "https://localhost:8080/",
     "height": 1000
    },
    "colab_type": "code",
    "id": "ZRWjy0oRFfWf",
    "outputId": "e876f16d-f3ca-4ae3-ec39-05f359e71ae5"
   },
   "outputs": [
    {
     "data": {
      "text/plain": [
       "[array([[[[-0.00670879,  0.0356077 , -0.05855726, ...,  0.00711349,\n",
       "           -0.06262704,  0.05209792],\n",
       "          [ 0.05533109,  0.06693409, -0.01331225, ...,  0.06789324,\n",
       "            0.05928949,  0.06339125],\n",
       "          [-0.02533138, -0.01555497,  0.01113903, ..., -0.03698318,\n",
       "            0.09385403,  0.09335817],\n",
       "          ...,\n",
       "          [ 0.06448547, -0.07975984, -0.00678959, ...,  0.1696146 ,\n",
       "            0.03444421, -0.04487485],\n",
       "          [ 0.04974082,  0.0624945 , -0.12406934, ..., -0.04219652,\n",
       "            0.03711565,  0.03151469],\n",
       "          [-0.02129413,  0.04363169,  0.18006803, ...,  0.08161932,\n",
       "           -0.0467256 , -0.05331526]],\n",
       " \n",
       "         [[-0.08148877,  0.0743217 , -0.07356383, ...,  0.00427431,\n",
       "           -0.06887518,  0.04900089],\n",
       "          [ 0.13621974, -0.07368574, -0.06806887, ..., -0.05955601,\n",
       "           -0.0127057 , -0.00761209],\n",
       "          [ 0.0323068 , -0.00398237,  0.02747515, ...,  0.02835224,\n",
       "            0.05461674, -0.09910596],\n",
       "          ...,\n",
       "          [ 0.03635366,  0.09711256,  0.10851914, ...,  0.03835396,\n",
       "            0.11277057, -0.01331844],\n",
       "          [ 0.02899224,  0.12086061,  0.05183962, ..., -0.11932494,\n",
       "           -0.0013185 ,  0.10554047],\n",
       "          [ 0.02637664,  0.1045884 , -0.07451515, ..., -0.07645199,\n",
       "            0.02092814, -0.1017266 ]],\n",
       " \n",
       "         [[ 0.01280386,  0.05049481,  0.08237661, ..., -0.09645893,\n",
       "            0.02995132, -0.08820421],\n",
       "          [-0.03266193, -0.00273856,  0.06738363, ...,  0.0809014 ,\n",
       "            0.0709763 , -0.04200195],\n",
       "          [-0.04678811, -0.02002275, -0.08751397, ..., -0.03748499,\n",
       "           -0.05125047, -0.05066162],\n",
       "          ...,\n",
       "          [-0.02993885,  0.02110203,  0.0098543 , ..., -0.06616457,\n",
       "           -0.03409341,  0.06590693],\n",
       "          [-0.04072012,  0.10029306,  0.08282623, ..., -0.08066823,\n",
       "           -0.04408726,  0.01623789],\n",
       "          [-0.05349814,  0.0596169 , -0.04236445, ...,  0.03457029,\n",
       "           -0.00723791, -0.04628666]]],\n",
       " \n",
       " \n",
       "        [[[-0.11162746, -0.02119008, -0.13575733, ...,  0.01989034,\n",
       "            0.08355271,  0.0878254 ],\n",
       "          [ 0.01519108,  0.09705132, -0.05850803, ...,  0.01264862,\n",
       "            0.03709798,  0.12463731],\n",
       "          [-0.03483141,  0.0313803 ,  0.01638605, ...,  0.07550374,\n",
       "            0.01130244,  0.01224801],\n",
       "          ...,\n",
       "          [ 0.04777861, -0.11645482,  0.04712272, ...,  0.11605226,\n",
       "           -0.09044112, -0.00464417],\n",
       "          [-0.01959125, -0.06597778, -0.07274204, ..., -0.03801318,\n",
       "            0.00264167,  0.0247323 ],\n",
       "          [ 0.09101308,  0.07528765, -0.02792534, ..., -0.01926477,\n",
       "           -0.01240241, -0.10121235]],\n",
       " \n",
       "         [[-0.02731083, -0.01590547, -0.06196759, ..., -0.04991172,\n",
       "           -0.07109926, -0.1028162 ],\n",
       "          [-0.05008917,  0.03339971,  0.0558223 , ...,  0.05121876,\n",
       "            0.03432258, -0.07435831],\n",
       "          [-0.0391087 , -0.0126115 , -0.01072752, ...,  0.06283858,\n",
       "            0.0663248 , -0.03798098],\n",
       "          ...,\n",
       "          [ 0.04570564, -0.09447686,  0.12081177, ..., -0.0126263 ,\n",
       "            0.01009766,  0.0093506 ],\n",
       "          [ 0.01571164,  0.04391016,  0.00571527, ..., -0.07891255,\n",
       "            0.04560045, -0.11466185],\n",
       "          [ 0.06326108,  0.00866817, -0.06020477, ...,  0.02537904,\n",
       "            0.05378164, -0.06305233]],\n",
       " \n",
       "         [[ 0.04855927, -0.0272792 ,  0.081536  , ..., -0.10953704,\n",
       "           -0.0227914 , -0.0933099 ],\n",
       "          [ 0.03592762,  0.01659401, -0.11603148, ...,  0.05709739,\n",
       "            0.05180343,  0.01145583],\n",
       "          [-0.02614794,  0.08446696, -0.04176672, ...,  0.01169617,\n",
       "           -0.0510869 , -0.07496805],\n",
       "          ...,\n",
       "          [ 0.01388028,  0.05276974, -0.11794061, ...,  0.19333512,\n",
       "            0.00310205, -0.06668215],\n",
       "          [ 0.02429913,  0.04569155,  0.0735295 , ...,  0.02959772,\n",
       "           -0.0892598 , -0.06960889],\n",
       "          [-0.01069097,  0.00370584, -0.00947653, ..., -0.07523378,\n",
       "           -0.01926758, -0.04051191]]],\n",
       " \n",
       " \n",
       "        [[[ 0.04034349,  0.00932454, -0.12087604, ...,  0.01764831,\n",
       "            0.03105686,  0.01171402],\n",
       "          [ 0.04386711, -0.01284392,  0.07428974, ..., -0.00270153,\n",
       "            0.02553879, -0.0055167 ],\n",
       "          [ 0.00155784,  0.00763192,  0.0661363 , ..., -0.0448459 ,\n",
       "            0.0970045 , -0.01775882],\n",
       "          ...,\n",
       "          [ 0.06734449,  0.20799325,  0.06321474, ...,  0.036323  ,\n",
       "            0.00583218, -0.05751647],\n",
       "          [ 0.0217996 ,  0.12217388, -0.10454039, ...,  0.07016822,\n",
       "           -0.03732915,  0.01242837],\n",
       "          [-0.00579978,  0.01088786,  0.08008288, ..., -0.07437422,\n",
       "            0.12217265, -0.02670238]],\n",
       " \n",
       "         [[-0.03995822, -0.10896876, -0.10387731, ..., -0.02963389,\n",
       "            0.08666174,  0.09163782],\n",
       "          [ 0.10629804,  0.04248982,  0.00468362, ..., -0.03805634,\n",
       "           -0.03898454,  0.12786198],\n",
       "          [-0.13162172,  0.02711849, -0.01565778, ...,  0.01069883,\n",
       "            0.05805258, -0.07227246],\n",
       "          ...,\n",
       "          [ 0.05750309, -0.06898526,  0.07994656, ...,  0.03524569,\n",
       "            0.03753733, -0.11483715],\n",
       "          [-0.14480914, -0.1351416 , -0.10961958, ...,  0.02944013,\n",
       "            0.0912055 , -0.04172396],\n",
       "          [-0.06281044, -0.02359653, -0.01236496, ..., -0.06718156,\n",
       "            0.02150154, -0.00745364]],\n",
       " \n",
       "         [[-0.0254775 , -0.09268739, -0.06194079, ..., -0.08992112,\n",
       "            0.0717974 ,  0.05216071],\n",
       "          [ 0.06181909, -0.1329923 , -0.09959351, ...,  0.14455535,\n",
       "           -0.0167357 ,  0.01444782],\n",
       "          [ 0.02681265,  0.05401353, -0.04198541, ..., -0.00869973,\n",
       "            0.03971386, -0.08733108],\n",
       "          ...,\n",
       "          [-0.01965901, -0.04145356,  0.06528158, ..., -0.00060433,\n",
       "           -0.06424335, -0.02772844],\n",
       "          [-0.0537756 , -0.12371705,  0.01030152, ..., -0.16951974,\n",
       "           -0.03614528, -0.02761985],\n",
       "          [ 0.00208179, -0.03171514, -0.09510814, ...,  0.02367895,\n",
       "           -0.0162661 ,  0.01330415]]]], dtype=float32),\n",
       " array([-0.00919927, -0.1321263 , -0.05756051, -0.0583598 , -0.06886917,\n",
       "         0.05723135, -0.06078634, -0.16155504, -0.056467  , -0.07664176,\n",
       "        -0.15317932, -0.11857507, -0.0417558 , -0.06858199,  0.08925596,\n",
       "        -0.12409241, -0.12007821,  0.02273106,  0.01398805,  0.02528135,\n",
       "        -0.03157073, -0.02143313, -0.09210907, -0.07568371,  0.06974815,\n",
       "        -0.1184343 , -0.06205012, -0.06678662, -0.11068175, -0.0622832 ,\n",
       "         0.01716042, -0.08748168, -0.11827757, -0.10299177, -0.09242392,\n",
       "        -0.02204065, -0.01013164, -0.01136957, -0.13551642,  0.01500215,\n",
       "        -0.08413879, -0.12345557, -0.01077695, -0.09409568, -0.05209845,\n",
       "        -0.03252585, -0.0246685 , -0.08067165, -0.05481633, -0.09915484,\n",
       "        -0.06225922, -0.02843806, -0.07195434, -0.08743599, -0.12144332,\n",
       "        -0.0431878 , -0.09334584, -0.16498624, -0.08891249, -0.08956944,\n",
       "        -0.04282853, -0.04548493, -0.14138263, -0.07224228], dtype=float32)]"
      ]
     },
     "execution_count": 15,
     "metadata": {
      "tags": []
     },
     "output_type": "execute_result"
    }
   ],
   "source": [
    "model.layers[6].get_weights()"
   ]
  },
  {
   "cell_type": "markdown",
   "metadata": {
    "colab_type": "text",
    "id": "ryoaG54CFkWA"
   },
   "source": [
    "## Evaluate"
   ]
  },
  {
   "cell_type": "code",
   "execution_count": 16,
   "metadata": {
    "colab": {
     "base_uri": "https://localhost:8080/",
     "height": 55
    },
    "colab_type": "code",
    "id": "arFWhblrFld3",
    "outputId": "c8cac71a-93c1-4816-f362-97ed368b6b86"
   },
   "outputs": [
    {
     "name": "stdout",
     "output_type": "stream",
     "text": [
      "10/10 [==============================] - 0s 48ms/step - loss: 0.9465 - accuracy: 0.6969\n"
     ]
    },
    {
     "data": {
      "text/plain": [
       "[0.9465029239654541, 0.6969000101089478]"
      ]
     },
     "execution_count": 16,
     "metadata": {
      "tags": []
     },
     "output_type": "execute_result"
    }
   ],
   "source": [
    "model.evaluate(X_test, y_test, batch_size=1000)"
   ]
  },
  {
   "cell_type": "markdown",
   "metadata": {
    "colab_type": "text",
    "id": "f0gJNh1M7hkt"
   },
   "source": [
    "[loss, accuracy] 가 출력된다.  \n",
    "결과를 시각화해 보자."
   ]
  },
  {
   "cell_type": "code",
   "execution_count": 17,
   "metadata": {
    "colab": {},
    "colab_type": "code",
    "id": "PleiM5uXFqpy"
   },
   "outputs": [],
   "source": [
    "CLASSES = np.array(['airplane','automobile','bird','cat','deer','dog','frog','horse','ship','truck'])\n",
    "\n",
    "preds = model.predict(X_test)\n",
    "preds_single = CLASSES[np.argmax(preds, axis=-1)]\n",
    "actual_single = CLASSES[np.argmax(y_test, axis=-1)]"
   ]
  },
  {
   "cell_type": "code",
   "execution_count": 18,
   "metadata": {
    "colab": {
     "base_uri": "https://localhost:8080/",
     "height": 131
    },
    "colab_type": "code",
    "id": "7KenquhHGE7D",
    "outputId": "aa81564d-c345-40c0-8db2-1ee3dfa67bcf"
   },
   "outputs": [
    {
     "data": {
      "image/png": "[encoded data removed]",
      "text/plain": [
       "<Figure size 1080x216 with 10 Axes>"
      ]
     },
     "metadata": {
      "needs_background": "light",
      "tags": []
     },
     "output_type": "display_data"
    }
   ],
   "source": [
    "import matplotlib.pyplot as plt\n",
    "\n",
    "n_to_show = 10\n",
    "indices = np.random.choice(range(len(X_test)), n_to_show)\n",
    "\n",
    "fig = plt.figure(figsize=(15, 3))\n",
    "fig.subplots_adjust(hspace=0.5, wspace=0.5)\n",
    "\n",
    "for i, idx in enumerate(indices):\n",
    "    img = X_test[idx]\n",
    "    ax = fig.add_subplot(1, n_to_show, i+1)\n",
    "    ax.axis('off')\n",
    "    ax.text(0.5, -0.35, 'pred = ' + str(preds_single[idx]), fontsize=10, ha='center', transform=ax.transAxes) \n",
    "    ax.text(0.5, -0.7, 'act = ' + str(actual_single[idx]), fontsize=10, ha='center', transform=ax.transAxes)\n",
    "    ax.imshow(img)"
   ]
  },
  {
   "cell_type": "markdown",
   "metadata": {
    "colab_type": "text",
    "id": "zxuUepeTjTJh"
   },
   "source": [
    "**- Assignment 5: model및 training 환경을 자유롭게 변경하여 Accuracy 75% 이상을 달성해 보세요!**"
   ]
  },
  {
   "cell_type": "code",
   "execution_count": 19,
   "metadata": {
    "colab": {},
    "colab_type": "code",
    "id": "0jQtOr_gGLCW"
   },
   "outputs": [],
   "source": [
    "## 화이팅:)"
   ]
  },
  {
   "cell_type": "code",
   "execution_count": 20,
   "metadata": {
    "colab": {},
    "colab_type": "code",
    "id": "uddcSQVQRdAv"
   },
   "outputs": [],
   "source": [
    "(X_train, y_train), (X_test, y_test) = cifar10.load_data()\n",
    "X_train = X_train.astype('float32') / 255.0\n",
    "X_test = X_test.astype('float32') / 255.0\n",
    "NUM_CLASSES = 10\n",
    "y_train = to_categorical(y_train, NUM_CLASSES)\n",
    "y_test = to_categorical(y_test, NUM_CLASSES)"
   ]
  },
  {
   "cell_type": "markdown",
   "metadata": {
    "colab_type": "text",
    "id": "kMNe9a9UZhwV"
   },
   "source": [
    "#### *vgg model 사용\n",
    "\n"
   ]
  },
  {
   "cell_type": "code",
   "execution_count": 21,
   "metadata": {
    "colab": {},
    "colab_type": "code",
    "id": "H6_R3gJNTRGZ"
   },
   "outputs": [],
   "source": [
    "## vgg model\n",
    "input_layer = Input(shape=(32,32,3))\n",
    "\n",
    "#block 1 : 32*32*64\n",
    "x = Conv2D(64,(3,3), padding='same')(input_layer)\n",
    "x = ReLU()(x)\n",
    "x = BatchNormalization()(x)\n",
    "x = Dropout(0.3)(x)\n",
    "\n",
    "x = Conv2D(64,(3,3), padding='same')(x)\n",
    "x = ReLU()(x)\n",
    "x = BatchNormalization()(x)\n",
    "\n",
    "x = MaxPooling2D(2,2)(x)\n",
    "\n",
    "x = Conv2D(128,(3,3),padding='same')(x)\n",
    "x = ReLU()(x)\n",
    "x = BatchNormalization()(x)\n",
    "x = Dropout(0.4)(x)\n",
    "\n",
    "x = Conv2D(128,(3,3),padding='same')(x)\n",
    "x = ReLU()(x)\n",
    "x = BatchNormalization()(x)\n",
    "\n",
    "x = MaxPooling2D(2,2)(x)\n",
    "\n",
    "x = Conv2D(256,(3,3),padding='same')(x)\n",
    "x = ReLU()(x)\n",
    "x = BatchNormalization()(x)\n",
    "x = Dropout(0.4)(x)\n",
    "\n",
    "x = Conv2D(256,(3,3),padding='same')(x)\n",
    "x = ReLU()(x)\n",
    "x = BatchNormalization()(x)\n",
    "x = Dropout(0.4)(x)\n",
    "\n",
    "x = Conv2D(256,(3,3),padding='same')(x)\n",
    "x = ReLU()(x)\n",
    "x = BatchNormalization()(x)\n",
    "\n",
    "x = MaxPooling2D(2,2)(x)\n",
    "\n",
    "x = Conv2D(512,(3,3),padding='same')(x)\n",
    "x = ReLU()(x)\n",
    "x = BatchNormalization()(x)\n",
    "x = Dropout(0.4)(x)\n",
    "\n",
    "x = Conv2D(512,(3,3),padding='same')(x)\n",
    "x = ReLU()(x)\n",
    "x = BatchNormalization()(x)\n",
    "x = Dropout(0.4)(x)\n",
    "\n",
    "x = Conv2D(512,(3,3),padding='same')(x)\n",
    "x = ReLU()(x)\n",
    "x = BatchNormalization()(x)\n",
    "\n",
    "x = MaxPooling2D(2,2)(x)\n",
    "\n",
    "x = Conv2D(512,(3,3),padding='same')(x)\n",
    "x = ReLU()(x)\n",
    "x = BatchNormalization()(x)\n",
    "x = Dropout(0.4)(x)\n",
    "\n",
    "x = Conv2D(512,(3,3),padding='same')(x)\n",
    "x = ReLU()(x)\n",
    "x = BatchNormalization()(x)\n",
    "x = Dropout(0.4)(x)\n",
    "\n",
    "x = Conv2D(512,(3,3),padding='same')(x)\n",
    "x = ReLU()(x)\n",
    "x = BatchNormalization()(x)\n",
    "\n",
    "x = MaxPooling2D(2,2)(x)\n",
    "x = Dropout(0.5)(x)\n",
    "\n",
    "x = Flatten()(x)\n",
    "x = Dense(512)(x)\n",
    "x = ReLU()(x)\n",
    "x = BatchNormalization()(x)\n",
    "x = Dropout(0.5)(x)\n",
    "x = Dense(NUM_CLASSES)(x)\n",
    "output_layer = Activation('softmax')(x)\n",
    "\n",
    "model = Model(input_layer,output_layer)"
   ]
  },
  {
   "cell_type": "code",
   "execution_count": 22,
   "metadata": {
    "colab": {
     "base_uri": "https://localhost:8080/",
     "height": 1000
    },
    "colab_type": "code",
    "id": "H5mJxXd4Yw_C",
    "outputId": "3d4b9d68-30f8-4840-d830-050f74ca510a"
   },
   "outputs": [
    {
     "name": "stdout",
     "output_type": "stream",
     "text": [
      "Model: \"functional_3\"\n",
      "_________________________________________________________________\n",
      "Layer (type)                 Output Shape              Param #   \n",
      "=================================================================\n",
      "input_2 (InputLayer)         [(None, 32, 32, 3)]       0         \n",
      "_________________________________________________________________\n",
      "conv2d_4 (Conv2D)            (None, 32, 32, 64)        1792      \n",
      "_________________________________________________________________\n",
      "re_lu (ReLU)                 (None, 32, 32, 64)        0         \n",
      "_________________________________________________________________\n",
      "batch_normalization_1 (Batch (None, 32, 32, 64)        256       \n",
      "_________________________________________________________________\n",
      "dropout_1 (Dropout)          (None, 32, 32, 64)        0         \n",
      "_________________________________________________________________\n",
      "conv2d_5 (Conv2D)            (None, 32, 32, 64)        36928     \n",
      "_________________________________________________________________\n",
      "re_lu_1 (ReLU)               (None, 32, 32, 64)        0         \n",
      "_________________________________________________________________\n",
      "batch_normalization_2 (Batch (None, 32, 32, 64)        256       \n",
      "_________________________________________________________________\n",
      "max_pooling2d (MaxPooling2D) (None, 16, 16, 64)        0         \n",
      "_________________________________________________________________\n",
      "conv2d_6 (Conv2D)            (None, 16, 16, 128)       73856     \n",
      "_________________________________________________________________\n",
      "re_lu_2 (ReLU)               (None, 16, 16, 128)       0         \n",
      "_________________________________________________________________\n",
      "batch_normalization_3 (Batch (None, 16, 16, 128)       512       \n",
      "_________________________________________________________________\n",
      "dropout_2 (Dropout)          (None, 16, 16, 128)       0         \n",
      "_________________________________________________________________\n",
      "conv2d_7 (Conv2D)            (None, 16, 16, 128)       147584    \n",
      "_________________________________________________________________\n",
      "re_lu_3 (ReLU)               (None, 16, 16, 128)       0         \n",
      "_________________________________________________________________\n",
      "batch_normalization_4 (Batch (None, 16, 16, 128)       512       \n",
      "_________________________________________________________________\n",
      "max_pooling2d_1 (MaxPooling2 (None, 8, 8, 128)         0         \n",
      "_________________________________________________________________\n",
      "conv2d_8 (Conv2D)            (None, 8, 8, 256)         295168    \n",
      "_________________________________________________________________\n",
      "re_lu_4 (ReLU)               (None, 8, 8, 256)         0         \n",
      "_________________________________________________________________\n",
      "batch_normalization_5 (Batch (None, 8, 8, 256)         1024      \n",
      "_________________________________________________________________\n",
      "dropout_3 (Dropout)          (None, 8, 8, 256)         0         \n",
      "_________________________________________________________________\n",
      "conv2d_9 (Conv2D)            (None, 8, 8, 256)         590080    \n",
      "_________________________________________________________________\n",
      "re_lu_5 (ReLU)               (None, 8, 8, 256)         0         \n",
      "_________________________________________________________________\n",
      "batch_normalization_6 (Batch (None, 8, 8, 256)         1024      \n",
      "_________________________________________________________________\n",
      "dropout_4 (Dropout)          (None, 8, 8, 256)         0         \n",
      "_________________________________________________________________\n",
      "conv2d_10 (Conv2D)           (None, 8, 8, 256)         590080    \n",
      "_________________________________________________________________\n",
      "re_lu_6 (ReLU)               (None, 8, 8, 256)         0         \n",
      "_________________________________________________________________\n",
      "batch_normalization_7 (Batch (None, 8, 8, 256)         1024      \n",
      "_________________________________________________________________\n",
      "max_pooling2d_2 (MaxPooling2 (None, 4, 4, 256)         0         \n",
      "_________________________________________________________________\n",
      "conv2d_11 (Conv2D)           (None, 4, 4, 512)         1180160   \n",
      "_________________________________________________________________\n",
      "re_lu_7 (ReLU)               (None, 4, 4, 512)         0         \n",
      "_________________________________________________________________\n",
      "batch_normalization_8 (Batch (None, 4, 4, 512)         2048      \n",
      "_________________________________________________________________\n",
      "dropout_5 (Dropout)          (None, 4, 4, 512)         0         \n",
      "_________________________________________________________________\n",
      "conv2d_12 (Conv2D)           (None, 4, 4, 512)         2359808   \n",
      "_________________________________________________________________\n",
      "re_lu_8 (ReLU)               (None, 4, 4, 512)         0         \n",
      "_________________________________________________________________\n",
      "batch_normalization_9 (Batch (None, 4, 4, 512)         2048      \n",
      "_________________________________________________________________\n",
      "dropout_6 (Dropout)          (None, 4, 4, 512)         0         \n",
      "_________________________________________________________________\n",
      "conv2d_13 (Conv2D)           (None, 4, 4, 512)         2359808   \n",
      "_________________________________________________________________\n",
      "re_lu_9 (ReLU)               (None, 4, 4, 512)         0         \n",
      "_________________________________________________________________\n",
      "batch_normalization_10 (Batc (None, 4, 4, 512)         2048      \n",
      "_________________________________________________________________\n",
      "max_pooling2d_3 (MaxPooling2 (None, 2, 2, 512)         0         \n",
      "_________________________________________________________________\n",
      "conv2d_14 (Conv2D)           (None, 2, 2, 512)         2359808   \n",
      "_________________________________________________________________\n",
      "re_lu_10 (ReLU)              (None, 2, 2, 512)         0         \n",
      "_________________________________________________________________\n",
      "batch_normalization_11 (Batc (None, 2, 2, 512)         2048      \n",
      "_________________________________________________________________\n",
      "dropout_7 (Dropout)          (None, 2, 2, 512)         0         \n",
      "_________________________________________________________________\n",
      "conv2d_15 (Conv2D)           (None, 2, 2, 512)         2359808   \n",
      "_________________________________________________________________\n",
      "re_lu_11 (ReLU)              (None, 2, 2, 512)         0         \n",
      "_________________________________________________________________\n",
      "batch_normalization_12 (Batc (None, 2, 2, 512)         2048      \n",
      "_________________________________________________________________\n",
      "dropout_8 (Dropout)          (None, 2, 2, 512)         0         \n",
      "_________________________________________________________________\n",
      "conv2d_16 (Conv2D)           (None, 2, 2, 512)         2359808   \n",
      "_________________________________________________________________\n",
      "re_lu_12 (ReLU)              (None, 2, 2, 512)         0         \n",
      "_________________________________________________________________\n",
      "batch_normalization_13 (Batc (None, 2, 2, 512)         2048      \n",
      "_________________________________________________________________\n",
      "max_pooling2d_4 (MaxPooling2 (None, 1, 1, 512)         0         \n",
      "_________________________________________________________________\n",
      "dropout_9 (Dropout)          (None, 1, 1, 512)         0         \n",
      "_________________________________________________________________\n",
      "flatten_1 (Flatten)          (None, 512)               0         \n",
      "_________________________________________________________________\n",
      "dense_2 (Dense)              (None, 512)               262656    \n",
      "_________________________________________________________________\n",
      "re_lu_13 (ReLU)              (None, 512)               0         \n",
      "_________________________________________________________________\n",
      "batch_normalization_14 (Batc (None, 512)               2048      \n",
      "_________________________________________________________________\n",
      "dropout_10 (Dropout)         (None, 512)               0         \n",
      "_________________________________________________________________\n",
      "dense_3 (Dense)              (None, 10)                5130      \n",
      "_________________________________________________________________\n",
      "activation_1 (Activation)    (None, 10)                0         \n",
      "=================================================================\n",
      "Total params: 15,001,418\n",
      "Trainable params: 14,991,946\n",
      "Non-trainable params: 9,472\n",
      "_________________________________________________________________\n"
     ]
    }
   ],
   "source": [
    "model.summary()"
   ]
  },
  {
   "cell_type": "code",
   "execution_count": 23,
   "metadata": {
    "colab": {},
    "colab_type": "code",
    "id": "ujxUvTkVYz0M"
   },
   "outputs": [],
   "source": [
    "model.compile(loss='categorical_crossentropy',optimizer=Adam(learning_rate=0.005),metrics =['accuracy'])"
   ]
  },
  {
   "cell_type": "markdown",
   "metadata": {
    "colab_type": "text",
    "id": "EwOrfhKqZbl-"
   },
   "source": [
    "#### *image augmentation\n"
   ]
  },
  {
   "cell_type": "code",
   "execution_count": 24,
   "metadata": {
    "colab": {},
    "colab_type": "code",
    "id": "BXKhVX8gY0fa"
   },
   "outputs": [],
   "source": [
    "from keras.preprocessing.image import ImageDataGenerator\n",
    "\n",
    "TrainGenerator = ImageDataGenerator(rotation_range=15, # 회전                                                                   \n",
    "                                    width_shift_range=0.1, # 좌우 이동\n",
    "                                    height_shift_range=0.1, # 상하 이동\n",
    "                                    fill_mode=\"nearest\", # interpolation method -> \"constant\", \"nearest\", \"reflect\", \"wrap\"\n",
    "                                    horizontal_flip=True, # 상하 뒤집기\n",
    "                                    vertical_flip=False, # 좌우 뒤집기\n",
    "                                    validation_split=0.2,\n",
    "                                    data_format=\"channels_last\")\n",
    "TrainGenerator.fit(X_train)"
   ]
  },
  {
   "cell_type": "code",
   "execution_count": 26,
   "metadata": {
    "colab": {},
    "colab_type": "code",
    "id": "M-8Bwc5SY24Z"
   },
   "outputs": [],
   "source": [
    "from keras.callbacks import ModelCheckpoint,ReduceLROnPlateau\n",
    "\n",
    "modelsaver = ModelCheckpoint(base_path +\"cifar10_basic_vgg.h5\",\n",
    "                             monitor = 'val_accuracy',\n",
    "                             mode = 'max',\n",
    "                             verbose=1,\n",
    "                             save_best_only=True)\n",
    "\n",
    "lr_scheduler = ReduceLROnPlateau(monitor=\"val_loss\",\n",
    "                                 factor=0.5, \n",
    "                                 patience=3, \n",
    "                                 verbose=1,\n",
    "                                 min_delta=1e-4, \n",
    "                                 min_lr=1e-4) "
   ]
  },
  {
   "cell_type": "code",
   "execution_count": 27,
   "metadata": {
    "colab": {
     "base_uri": "https://localhost:8080/",
     "height": 1000
    },
    "colab_type": "code",
    "id": "TjHoABgSY3xW",
    "outputId": "185f0be3-25d5-4ca8-aab3-c459c3d79712"
   },
   "outputs": [
    {
     "name": "stdout",
     "output_type": "stream",
     "text": [
      "Epoch 1/40\n",
      "390/390 [==============================] - ETA: 0s - loss: 2.2270 - accuracy: 0.2152\n",
      "Epoch 00001: val_accuracy improved from -inf to 0.15990, saving model to /content/gdrive/My Drive/보아즈/cifar10_basic_vgg.h5\n",
      "390/390 [==============================] - 60s 154ms/step - loss: 2.2270 - accuracy: 0.2152 - val_loss: 3.1105 - val_accuracy: 0.1599\n",
      "Epoch 2/40\n",
      "390/390 [==============================] - ETA: 0s - loss: 1.9121 - accuracy: 0.3176\n",
      "Epoch 00002: val_accuracy improved from 0.15990 to 0.34690, saving model to /content/gdrive/My Drive/보아즈/cifar10_basic_vgg.h5\n",
      "390/390 [==============================] - 58s 148ms/step - loss: 1.9121 - accuracy: 0.3176 - val_loss: 1.7902 - val_accuracy: 0.3469\n",
      "Epoch 3/40\n",
      "390/390 [==============================] - ETA: 0s - loss: 1.6142 - accuracy: 0.4124\n",
      "Epoch 00003: val_accuracy did not improve from 0.34690\n",
      "390/390 [==============================] - 58s 148ms/step - loss: 1.6142 - accuracy: 0.4124 - val_loss: 2.0496 - val_accuracy: 0.3464\n",
      "Epoch 4/40\n",
      "390/390 [==============================] - ETA: 0s - loss: 1.3868 - accuracy: 0.5008\n",
      "Epoch 00004: val_accuracy improved from 0.34690 to 0.43360, saving model to /content/gdrive/My Drive/보아즈/cifar10_basic_vgg.h5\n",
      "390/390 [==============================] - 58s 148ms/step - loss: 1.3868 - accuracy: 0.5008 - val_loss: 2.1158 - val_accuracy: 0.4336\n",
      "Epoch 5/40\n",
      "390/390 [==============================] - ETA: 0s - loss: 1.1999 - accuracy: 0.5726\n",
      "Epoch 00005: val_accuracy improved from 0.43360 to 0.60920, saving model to /content/gdrive/My Drive/보아즈/cifar10_basic_vgg.h5\n",
      "390/390 [==============================] - 58s 148ms/step - loss: 1.1999 - accuracy: 0.5726 - val_loss: 1.1369 - val_accuracy: 0.6092\n",
      "Epoch 6/40\n",
      "390/390 [==============================] - ETA: 0s - loss: 1.0704 - accuracy: 0.6258\n",
      "Epoch 00006: val_accuracy improved from 0.60920 to 0.62260, saving model to /content/gdrive/My Drive/보아즈/cifar10_basic_vgg.h5\n",
      "390/390 [==============================] - 58s 148ms/step - loss: 1.0704 - accuracy: 0.6258 - val_loss: 1.1660 - val_accuracy: 0.6226\n",
      "Epoch 7/40\n",
      "390/390 [==============================] - ETA: 0s - loss: 0.9660 - accuracy: 0.6659\n",
      "Epoch 00007: val_accuracy improved from 0.62260 to 0.69260, saving model to /content/gdrive/My Drive/보아즈/cifar10_basic_vgg.h5\n",
      "390/390 [==============================] - 58s 148ms/step - loss: 0.9660 - accuracy: 0.6659 - val_loss: 0.9768 - val_accuracy: 0.6926\n",
      "Epoch 8/40\n",
      "390/390 [==============================] - ETA: 0s - loss: 0.9014 - accuracy: 0.6917\n",
      "Epoch 00008: val_accuracy improved from 0.69260 to 0.69560, saving model to /content/gdrive/My Drive/보아즈/cifar10_basic_vgg.h5\n",
      "390/390 [==============================] - 57s 147ms/step - loss: 0.9014 - accuracy: 0.6917 - val_loss: 0.9920 - val_accuracy: 0.6956\n",
      "Epoch 9/40\n",
      "390/390 [==============================] - ETA: 0s - loss: 0.8555 - accuracy: 0.7114\n",
      "Epoch 00009: val_accuracy did not improve from 0.69560\n",
      "390/390 [==============================] - 58s 148ms/step - loss: 0.8555 - accuracy: 0.7114 - val_loss: 1.0483 - val_accuracy: 0.6859\n",
      "Epoch 10/40\n",
      "390/390 [==============================] - ETA: 0s - loss: 0.7996 - accuracy: 0.7321\n",
      "Epoch 00010: val_accuracy improved from 0.69560 to 0.74600, saving model to /content/gdrive/My Drive/보아즈/cifar10_basic_vgg.h5\n",
      "390/390 [==============================] - 58s 148ms/step - loss: 0.7996 - accuracy: 0.7321 - val_loss: 0.7983 - val_accuracy: 0.7460\n",
      "Epoch 11/40\n",
      "390/390 [==============================] - ETA: 0s - loss: 0.7712 - accuracy: 0.7442\n",
      "Epoch 00011: val_accuracy did not improve from 0.74600\n",
      "390/390 [==============================] - 58s 148ms/step - loss: 0.7712 - accuracy: 0.7442 - val_loss: 0.8779 - val_accuracy: 0.7338\n",
      "Epoch 12/40\n",
      "390/390 [==============================] - ETA: 0s - loss: 0.7410 - accuracy: 0.7549\n",
      "Epoch 00012: val_accuracy improved from 0.74600 to 0.77020, saving model to /content/gdrive/My Drive/보아즈/cifar10_basic_vgg.h5\n",
      "390/390 [==============================] - 58s 148ms/step - loss: 0.7410 - accuracy: 0.7549 - val_loss: 0.7404 - val_accuracy: 0.7702\n",
      "Epoch 13/40\n",
      "390/390 [==============================] - ETA: 0s - loss: 0.7168 - accuracy: 0.7648\n",
      "Epoch 00013: val_accuracy improved from 0.77020 to 0.77750, saving model to /content/gdrive/My Drive/보아즈/cifar10_basic_vgg.h5\n",
      "390/390 [==============================] - 58s 148ms/step - loss: 0.7168 - accuracy: 0.7648 - val_loss: 0.6975 - val_accuracy: 0.7775\n",
      "Epoch 14/40\n",
      "390/390 [==============================] - ETA: 0s - loss: 0.6720 - accuracy: 0.7781\n",
      "Epoch 00014: val_accuracy improved from 0.77750 to 0.80250, saving model to /content/gdrive/My Drive/보아즈/cifar10_basic_vgg.h5\n",
      "390/390 [==============================] - 58s 148ms/step - loss: 0.6720 - accuracy: 0.7781 - val_loss: 0.6167 - val_accuracy: 0.8025\n",
      "Epoch 15/40\n",
      "390/390 [==============================] - ETA: 0s - loss: 0.6538 - accuracy: 0.7853\n",
      "Epoch 00015: val_accuracy did not improve from 0.80250\n",
      "390/390 [==============================] - 58s 148ms/step - loss: 0.6538 - accuracy: 0.7853 - val_loss: 0.6523 - val_accuracy: 0.7934\n",
      "Epoch 16/40\n",
      "390/390 [==============================] - ETA: 0s - loss: 0.6323 - accuracy: 0.7941\n",
      "Epoch 00016: val_accuracy did not improve from 0.80250\n",
      "390/390 [==============================] - 58s 148ms/step - loss: 0.6323 - accuracy: 0.7941 - val_loss: 0.7046 - val_accuracy: 0.7776\n",
      "Epoch 17/40\n",
      "390/390 [==============================] - ETA: 0s - loss: 0.6157 - accuracy: 0.7971\n",
      "Epoch 00017: val_accuracy improved from 0.80250 to 0.80580, saving model to /content/gdrive/My Drive/보아즈/cifar10_basic_vgg.h5\n",
      "\n",
      "Epoch 00017: ReduceLROnPlateau reducing learning rate to 0.0024999999441206455.\n",
      "390/390 [==============================] - 57s 147ms/step - loss: 0.6157 - accuracy: 0.7971 - val_loss: 0.6207 - val_accuracy: 0.8058\n",
      "Epoch 18/40\n",
      "390/390 [==============================] - ETA: 0s - loss: 0.5339 - accuracy: 0.8253\n",
      "Epoch 00018: val_accuracy improved from 0.80580 to 0.83420, saving model to /content/gdrive/My Drive/보아즈/cifar10_basic_vgg.h5\n",
      "390/390 [==============================] - 57s 147ms/step - loss: 0.5339 - accuracy: 0.8253 - val_loss: 0.5265 - val_accuracy: 0.8342\n",
      "Epoch 19/40\n",
      "390/390 [==============================] - ETA: 0s - loss: 0.4986 - accuracy: 0.8351\n",
      "Epoch 00019: val_accuracy did not improve from 0.83420\n",
      "390/390 [==============================] - 57s 147ms/step - loss: 0.4986 - accuracy: 0.8351 - val_loss: 0.5068 - val_accuracy: 0.8320\n",
      "Epoch 20/40\n",
      "390/390 [==============================] - ETA: 0s - loss: 0.4931 - accuracy: 0.8376\n",
      "Epoch 00020: val_accuracy improved from 0.83420 to 0.85200, saving model to /content/gdrive/My Drive/보아즈/cifar10_basic_vgg.h5\n",
      "390/390 [==============================] - 57s 147ms/step - loss: 0.4931 - accuracy: 0.8376 - val_loss: 0.4594 - val_accuracy: 0.8520\n",
      "Epoch 21/40\n",
      "390/390 [==============================] - ETA: 0s - loss: 0.4718 - accuracy: 0.8435\n",
      "Epoch 00021: val_accuracy did not improve from 0.85200\n",
      "390/390 [==============================] - 57s 147ms/step - loss: 0.4718 - accuracy: 0.8435 - val_loss: 0.4702 - val_accuracy: 0.8509\n",
      "Epoch 22/40\n",
      "390/390 [==============================] - ETA: 0s - loss: 0.4627 - accuracy: 0.8480\n",
      "Epoch 00022: val_accuracy improved from 0.85200 to 0.87190, saving model to /content/gdrive/My Drive/보아즈/cifar10_basic_vgg.h5\n",
      "390/390 [==============================] - 58s 148ms/step - loss: 0.4627 - accuracy: 0.8480 - val_loss: 0.3991 - val_accuracy: 0.8719\n",
      "Epoch 23/40\n",
      "390/390 [==============================] - ETA: 0s - loss: 0.4508 - accuracy: 0.8511\n",
      "Epoch 00023: val_accuracy did not improve from 0.87190\n",
      "390/390 [==============================] - 57s 147ms/step - loss: 0.4508 - accuracy: 0.8511 - val_loss: 0.4446 - val_accuracy: 0.8579\n",
      "Epoch 24/40\n",
      "390/390 [==============================] - ETA: 0s - loss: 0.4365 - accuracy: 0.8542\n",
      "Epoch 00024: val_accuracy did not improve from 0.87190\n",
      "390/390 [==============================] - 57s 147ms/step - loss: 0.4365 - accuracy: 0.8542 - val_loss: 0.4501 - val_accuracy: 0.8615\n",
      "Epoch 25/40\n",
      "390/390 [==============================] - ETA: 0s - loss: 0.4290 - accuracy: 0.8585\n",
      "Epoch 00025: val_accuracy did not improve from 0.87190\n",
      "\n",
      "Epoch 00025: ReduceLROnPlateau reducing learning rate to 0.0012499999720603228.\n",
      "390/390 [==============================] - 57s 147ms/step - loss: 0.4290 - accuracy: 0.8585 - val_loss: 0.4300 - val_accuracy: 0.8626\n",
      "Epoch 26/40\n",
      "390/390 [==============================] - ETA: 0s - loss: 0.3882 - accuracy: 0.8708\n",
      "Epoch 00026: val_accuracy improved from 0.87190 to 0.88370, saving model to /content/gdrive/My Drive/보아즈/cifar10_basic_vgg.h5\n",
      "390/390 [==============================] - 57s 147ms/step - loss: 0.3882 - accuracy: 0.8708 - val_loss: 0.3612 - val_accuracy: 0.8837\n",
      "Epoch 27/40\n",
      "390/390 [==============================] - ETA: 0s - loss: 0.3668 - accuracy: 0.8797\n",
      "Epoch 00027: val_accuracy did not improve from 0.88370\n",
      "390/390 [==============================] - 57s 147ms/step - loss: 0.3668 - accuracy: 0.8797 - val_loss: 0.3882 - val_accuracy: 0.8751\n",
      "Epoch 28/40\n",
      "390/390 [==============================] - ETA: 0s - loss: 0.3583 - accuracy: 0.8818\n",
      "Epoch 00028: val_accuracy did not improve from 0.88370\n",
      "390/390 [==============================] - 57s 147ms/step - loss: 0.3583 - accuracy: 0.8818 - val_loss: 0.3670 - val_accuracy: 0.8835\n",
      "Epoch 29/40\n",
      "390/390 [==============================] - ETA: 0s - loss: 0.3530 - accuracy: 0.8838\n",
      "Epoch 00029: val_accuracy improved from 0.88370 to 0.88650, saving model to /content/gdrive/My Drive/보아즈/cifar10_basic_vgg.h5\n",
      "390/390 [==============================] - 58s 147ms/step - loss: 0.3530 - accuracy: 0.8838 - val_loss: 0.3593 - val_accuracy: 0.8865\n",
      "Epoch 30/40\n",
      "390/390 [==============================] - ETA: 0s - loss: 0.3432 - accuracy: 0.8863\n",
      "Epoch 00030: val_accuracy did not improve from 0.88650\n",
      "390/390 [==============================] - 57s 147ms/step - loss: 0.3432 - accuracy: 0.8863 - val_loss: 0.3840 - val_accuracy: 0.8793\n",
      "Epoch 31/40\n",
      "390/390 [==============================] - ETA: 0s - loss: 0.3347 - accuracy: 0.8881\n",
      "Epoch 00031: val_accuracy did not improve from 0.88650\n",
      "390/390 [==============================] - 58s 148ms/step - loss: 0.3347 - accuracy: 0.8881 - val_loss: 0.3925 - val_accuracy: 0.8737\n",
      "Epoch 32/40\n",
      "390/390 [==============================] - ETA: 0s - loss: 0.3300 - accuracy: 0.8898\n",
      "Epoch 00032: val_accuracy did not improve from 0.88650\n",
      "\n",
      "Epoch 00032: ReduceLROnPlateau reducing learning rate to 0.0006249999860301614.\n",
      "390/390 [==============================] - 58s 148ms/step - loss: 0.3300 - accuracy: 0.8898 - val_loss: 0.3952 - val_accuracy: 0.8759\n",
      "Epoch 33/40\n",
      "390/390 [==============================] - ETA: 0s - loss: 0.3082 - accuracy: 0.8972\n",
      "Epoch 00033: val_accuracy improved from 0.88650 to 0.88920, saving model to /content/gdrive/My Drive/보아즈/cifar10_basic_vgg.h5\n",
      "390/390 [==============================] - 58s 148ms/step - loss: 0.3082 - accuracy: 0.8972 - val_loss: 0.3440 - val_accuracy: 0.8892\n",
      "Epoch 34/40\n",
      "390/390 [==============================] - ETA: 0s - loss: 0.2930 - accuracy: 0.9009\n",
      "Epoch 00034: val_accuracy improved from 0.88920 to 0.88970, saving model to /content/gdrive/My Drive/보아즈/cifar10_basic_vgg.h5\n",
      "390/390 [==============================] - 58s 148ms/step - loss: 0.2930 - accuracy: 0.9009 - val_loss: 0.3468 - val_accuracy: 0.8897\n",
      "Epoch 35/40\n",
      "390/390 [==============================] - ETA: 0s - loss: 0.2850 - accuracy: 0.9037\n",
      "Epoch 00035: val_accuracy improved from 0.88970 to 0.89080, saving model to /content/gdrive/My Drive/보아즈/cifar10_basic_vgg.h5\n",
      "390/390 [==============================] - 58s 148ms/step - loss: 0.2850 - accuracy: 0.9037 - val_loss: 0.3445 - val_accuracy: 0.8908\n",
      "Epoch 36/40\n",
      "390/390 [==============================] - ETA: 0s - loss: 0.2844 - accuracy: 0.9040\n",
      "Epoch 00036: val_accuracy improved from 0.89080 to 0.89140, saving model to /content/gdrive/My Drive/보아즈/cifar10_basic_vgg.h5\n",
      "390/390 [==============================] - 58s 148ms/step - loss: 0.2844 - accuracy: 0.9040 - val_loss: 0.3430 - val_accuracy: 0.8914\n",
      "Epoch 37/40\n",
      "390/390 [==============================] - ETA: 0s - loss: 0.2774 - accuracy: 0.9053\n",
      "Epoch 00037: val_accuracy improved from 0.89140 to 0.90080, saving model to /content/gdrive/My Drive/보아즈/cifar10_basic_vgg.h5\n",
      "390/390 [==============================] - 58s 148ms/step - loss: 0.2774 - accuracy: 0.9053 - val_loss: 0.3187 - val_accuracy: 0.9008\n",
      "Epoch 38/40\n",
      "390/390 [==============================] - ETA: 0s - loss: 0.2736 - accuracy: 0.9085\n",
      "Epoch 00038: val_accuracy did not improve from 0.90080\n",
      "390/390 [==============================] - 58s 149ms/step - loss: 0.2736 - accuracy: 0.9085 - val_loss: 0.3251 - val_accuracy: 0.8981\n",
      "Epoch 39/40\n",
      "390/390 [==============================] - ETA: 0s - loss: 0.2744 - accuracy: 0.9076\n",
      "Epoch 00039: val_accuracy did not improve from 0.90080\n",
      "390/390 [==============================] - 58s 148ms/step - loss: 0.2744 - accuracy: 0.9076 - val_loss: 0.3428 - val_accuracy: 0.8926\n",
      "Epoch 40/40\n",
      "390/390 [==============================] - ETA: 0s - loss: 0.2692 - accuracy: 0.9098\n",
      "Epoch 00040: val_accuracy did not improve from 0.90080\n",
      "\n",
      "Epoch 00040: ReduceLROnPlateau reducing learning rate to 0.0003124999930150807.\n",
      "390/390 [==============================] - 58s 148ms/step - loss: 0.2692 - accuracy: 0.9098 - val_loss: 0.3368 - val_accuracy: 0.8939\n"
     ]
    },
    {
     "data": {
      "text/plain": [
       "<tensorflow.python.keras.callbacks.History at 0x7f4943f95cc0>"
      ]
     },
     "execution_count": 27,
     "metadata": {
      "tags": []
     },
     "output_type": "execute_result"
    }
   ],
   "source": [
    "BATCH_SIZE = 128\n",
    "EPOCHS = 40\n",
    "\n",
    "model.fit_generator(TrainGenerator.flow(X_train,y_train,batch_size=BATCH_SIZE),\n",
    "          steps_per_epoch = X_train.shape[0] // BATCH_SIZE,\n",
    "          epochs=EPOCHS,\n",
    "          shuffle=True,\n",
    "          validation_data=(X_test, y_test),\n",
    "          callbacks = [modelsaver,lr_scheduler])"
   ]
  },
  {
   "cell_type": "code",
   "execution_count": 31,
   "metadata": {
    "colab": {
     "base_uri": "https://localhost:8080/",
     "height": 55
    },
    "colab_type": "code",
    "id": "l1W7RvORY6bo",
    "outputId": "3f2f021d-8b08-4939-9974-d73ef3dd60dd"
   },
   "outputs": [
    {
     "name": "stdout",
     "output_type": "stream",
     "text": [
      "10/10 [==============================] - 2s 220ms/step - loss: 0.3368 - accuracy: 0.8939\n"
     ]
    },
    {
     "data": {
      "text/plain": [
       "[0.3367859721183777, 0.8938999772071838]"
      ]
     },
     "execution_count": 31,
     "metadata": {
      "tags": []
     },
     "output_type": "execute_result"
    }
   ],
   "source": [
    "best_model = load_model(base_path + \"cifar10_basic_vgg.h5\")\n",
    "best_model.evaluate(X_test,y_test,batch_size = 1000)"
   ]
  }
 ],
 "metadata": {
  "accelerator": "GPU",
  "colab": {
   "collapsed_sections": [],
   "name": "HW7_CNN.ipynb",
   "provenance": []
  },
  "kernelspec": {
   "display_name": "Python 3",
   "language": "python",
   "name": "python3"
  },
  "language_info": {
   "codemirror_mode": {
    "name": "ipython",
    "version": 3
   },
   "file_extension": ".py",
   "mimetype": "text/x-python",
   "name": "python",
   "nbconvert_exporter": "python",
   "pygments_lexer": "ipython3",
   "version": "3.7.6"
  }
 },
 "nbformat": 4,
 "nbformat_minor": 1
}
