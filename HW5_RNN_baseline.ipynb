{
 "cells": [
  {
   "cell_type": "markdown",
   "metadata": {
    "colab_type": "text",
    "id": "F8EMNDcSg6Gi"
   },
   "source": [
    "## RNN 과제 Colab 기준으로 작성, data 너무 커서 train 10000개, test 2000개만 사용"
   ]
  },
  {
   "cell_type": "code",
   "execution_count": 3,
   "metadata": {
    "colab": {
     "base_uri": "https://localhost:8080/",
     "height": 1000
    },
    "colab_type": "code",
    "executionInfo": {
     "elapsed": 28921,
     "status": "ok",
     "timestamp": 1583945686731,
     "user": {
      "displayName": "­정상형",
      "photoUrl": "",
      "userId": "11058725108837186820"
     },
     "user_tz": -540
    },
    "id": "LLcdrKD0hKX9",
    "outputId": "e2b6c281-8b5b-4ac4-d2f1-d7005cbe648d"
   },
   "outputs": [
    {
     "name": "stdout",
     "output_type": "stream",
     "text": [
      "Get:1 https://cloud.r-project.org/bin/linux/ubuntu bionic-cran35/ InRelease [3,626 B]\n",
      "Ign:2 https://developer.download.nvidia.com/compute/cuda/repos/ubuntu1804/x86_64  InRelease\n",
      "Get:3 http://security.ubuntu.com/ubuntu bionic-security InRelease [88.7 kB]\n",
      "Get:4 http://ppa.launchpad.net/graphics-drivers/ppa/ubuntu bionic InRelease [21.3 kB]\n",
      "Hit:5 http://archive.ubuntu.com/ubuntu bionic InRelease\n",
      "Ign:6 https://developer.download.nvidia.com/compute/machine-learning/repos/ubuntu1804/x86_64  InRelease\n",
      "Get:7 https://developer.download.nvidia.com/compute/cuda/repos/ubuntu1804/x86_64  Release [564 B]\n",
      "Hit:8 https://developer.download.nvidia.com/compute/machine-learning/repos/ubuntu1804/x86_64  Release\n",
      "Get:9 https://developer.download.nvidia.com/compute/cuda/repos/ubuntu1804/x86_64  Release.gpg [819 B]\n",
      "Get:10 http://archive.ubuntu.com/ubuntu bionic-updates InRelease [88.7 kB]\n",
      "Get:11 http://ppa.launchpad.net/marutter/c2d4u3.5/ubuntu bionic InRelease [15.4 kB]\n",
      "Get:12 http://archive.ubuntu.com/ubuntu bionic-backports InRelease [74.6 kB]\n",
      "Get:14 https://developer.download.nvidia.com/compute/cuda/repos/ubuntu1804/x86_64  Packages [141 kB]\n",
      "Get:15 http://ppa.launchpad.net/graphics-drivers/ppa/ubuntu bionic/main amd64 Packages [37.1 kB]\n",
      "Get:16 http://security.ubuntu.com/ubuntu bionic-security/universe amd64 Packages [826 kB]\n",
      "Get:17 http://ppa.launchpad.net/marutter/c2d4u3.5/ubuntu bionic/main Sources [1,782 kB]\n",
      "Get:18 http://archive.ubuntu.com/ubuntu bionic-updates/universe amd64 Packages [1,355 kB]\n",
      "Get:19 http://security.ubuntu.com/ubuntu bionic-security/main amd64 Packages [836 kB]\n",
      "Get:20 http://archive.ubuntu.com/ubuntu bionic-updates/main amd64 Packages [1,128 kB]\n",
      "Get:21 http://ppa.launchpad.net/marutter/c2d4u3.5/ubuntu bionic/main amd64 Packages [860 kB]\n",
      "Fetched 7,260 kB in 3s (2,152 kB/s)\n",
      "Reading package lists... Done\n",
      "Reading package lists... Done\n",
      "Building dependency tree       \n",
      "Reading state information... Done\n",
      "g++ is already the newest version (4:7.4.0-1ubuntu2.3).\n",
      "g++ set to manually installed.\n",
      "The following additional packages will be installed:\n",
      "  fonts-dejavu-core fonts-dejavu-extra libatk-wrapper-java\n",
      "  libatk-wrapper-java-jni libgail-common libgail18 libgtk2.0-0 libgtk2.0-bin\n",
      "  libgtk2.0-common libxxf86dga1 openjdk-8-jre x11-utils\n",
      "Suggested packages:\n",
      "  gvfs openjdk-8-demo openjdk-8-source visualvm icedtea-8-plugin mesa-utils\n",
      "The following NEW packages will be installed:\n",
      "  fonts-dejavu-core fonts-dejavu-extra libatk-wrapper-java\n",
      "  libatk-wrapper-java-jni libgail-common libgail18 libgtk2.0-0 libgtk2.0-bin\n",
      "  libgtk2.0-common libxxf86dga1 openjdk-8-jdk openjdk-8-jre x11-utils\n",
      "0 upgraded, 13 newly installed, 0 to remove and 84 not upgraded.\n",
      "Need to get 6,970 kB of archives.\n",
      "After this operation, 20.0 MB of additional disk space will be used.\n",
      "Get:1 http://archive.ubuntu.com/ubuntu bionic/main amd64 libxxf86dga1 amd64 2:1.1.4-1 [13.7 kB]\n",
      "Get:2 http://archive.ubuntu.com/ubuntu bionic/main amd64 fonts-dejavu-core all 2.37-1 [1,041 kB]\n",
      "Get:3 http://archive.ubuntu.com/ubuntu bionic/main amd64 fonts-dejavu-extra all 2.37-1 [1,953 kB]\n",
      "Get:4 http://archive.ubuntu.com/ubuntu bionic/main amd64 x11-utils amd64 7.7+3build1 [196 kB]\n",
      "Get:5 http://archive.ubuntu.com/ubuntu bionic/main amd64 libatk-wrapper-java all 0.33.3-20ubuntu0.1 [34.7 kB]\n",
      "Get:6 http://archive.ubuntu.com/ubuntu bionic/main amd64 libatk-wrapper-java-jni amd64 0.33.3-20ubuntu0.1 [28.3 kB]\n",
      "Get:7 http://archive.ubuntu.com/ubuntu bionic/main amd64 libgtk2.0-common all 2.24.32-1ubuntu1 [125 kB]\n",
      "Get:8 http://archive.ubuntu.com/ubuntu bionic/main amd64 libgtk2.0-0 amd64 2.24.32-1ubuntu1 [1,769 kB]\n",
      "Get:9 http://archive.ubuntu.com/ubuntu bionic/main amd64 libgail18 amd64 2.24.32-1ubuntu1 [14.2 kB]\n",
      "Get:10 http://archive.ubuntu.com/ubuntu bionic/main amd64 libgail-common amd64 2.24.32-1ubuntu1 [112 kB]\n",
      "Get:11 http://archive.ubuntu.com/ubuntu bionic/main amd64 libgtk2.0-bin amd64 2.24.32-1ubuntu1 [7,536 B]\n",
      "Get:12 http://archive.ubuntu.com/ubuntu bionic-updates/universe amd64 openjdk-8-jre amd64 8u242-b08-0ubuntu3~18.04 [69.7 kB]\n",
      "Get:13 http://archive.ubuntu.com/ubuntu bionic-updates/universe amd64 openjdk-8-jdk amd64 8u242-b08-0ubuntu3~18.04 [1,606 kB]\n",
      "Fetched 6,970 kB in 1s (6,216 kB/s)\n",
      "Selecting previously unselected package libxxf86dga1:amd64.\n",
      "(Reading database ... 134448 files and directories currently installed.)\n",
      "Preparing to unpack .../00-libxxf86dga1_2%3a1.1.4-1_amd64.deb ...\n",
      "Unpacking libxxf86dga1:amd64 (2:1.1.4-1) ...\n",
      "Selecting previously unselected package fonts-dejavu-core.\n",
      "Preparing to unpack .../01-fonts-dejavu-core_2.37-1_all.deb ...\n",
      "Unpacking fonts-dejavu-core (2.37-1) ...\n",
      "Selecting previously unselected package fonts-dejavu-extra.\n",
      "Preparing to unpack .../02-fonts-dejavu-extra_2.37-1_all.deb ...\n",
      "Unpacking fonts-dejavu-extra (2.37-1) ...\n",
      "Selecting previously unselected package x11-utils.\n",
      "Preparing to unpack .../03-x11-utils_7.7+3build1_amd64.deb ...\n",
      "Unpacking x11-utils (7.7+3build1) ...\n",
      "Selecting previously unselected package libatk-wrapper-java.\n",
      "Preparing to unpack .../04-libatk-wrapper-java_0.33.3-20ubuntu0.1_all.deb ...\n",
      "Unpacking libatk-wrapper-java (0.33.3-20ubuntu0.1) ...\n",
      "Selecting previously unselected package libatk-wrapper-java-jni:amd64.\n",
      "Preparing to unpack .../05-libatk-wrapper-java-jni_0.33.3-20ubuntu0.1_amd64.deb ...\n",
      "Unpacking libatk-wrapper-java-jni:amd64 (0.33.3-20ubuntu0.1) ...\n",
      "Selecting previously unselected package libgtk2.0-common.\n",
      "Preparing to unpack .../06-libgtk2.0-common_2.24.32-1ubuntu1_all.deb ...\n",
      "Unpacking libgtk2.0-common (2.24.32-1ubuntu1) ...\n",
      "Selecting previously unselected package libgtk2.0-0:amd64.\n",
      "Preparing to unpack .../07-libgtk2.0-0_2.24.32-1ubuntu1_amd64.deb ...\n",
      "Unpacking libgtk2.0-0:amd64 (2.24.32-1ubuntu1) ...\n",
      "Selecting previously unselected package libgail18:amd64.\n",
      "Preparing to unpack .../08-libgail18_2.24.32-1ubuntu1_amd64.deb ...\n",
      "Unpacking libgail18:amd64 (2.24.32-1ubuntu1) ...\n",
      "Selecting previously unselected package libgail-common:amd64.\n",
      "Preparing to unpack .../09-libgail-common_2.24.32-1ubuntu1_amd64.deb ...\n",
      "Unpacking libgail-common:amd64 (2.24.32-1ubuntu1) ...\n",
      "Selecting previously unselected package libgtk2.0-bin.\n",
      "Preparing to unpack .../10-libgtk2.0-bin_2.24.32-1ubuntu1_amd64.deb ...\n",
      "Unpacking libgtk2.0-bin (2.24.32-1ubuntu1) ...\n",
      "Selecting previously unselected package openjdk-8-jre:amd64.\n",
      "Preparing to unpack .../11-openjdk-8-jre_8u242-b08-0ubuntu3~18.04_amd64.deb ...\n",
      "Unpacking openjdk-8-jre:amd64 (8u242-b08-0ubuntu3~18.04) ...\n",
      "Selecting previously unselected package openjdk-8-jdk:amd64.\n",
      "Preparing to unpack .../12-openjdk-8-jdk_8u242-b08-0ubuntu3~18.04_amd64.deb ...\n",
      "Unpacking openjdk-8-jdk:amd64 (8u242-b08-0ubuntu3~18.04) ...\n",
      "Setting up libgtk2.0-common (2.24.32-1ubuntu1) ...\n",
      "Setting up fonts-dejavu-core (2.37-1) ...\n",
      "Setting up libxxf86dga1:amd64 (2:1.1.4-1) ...\n",
      "Setting up fonts-dejavu-extra (2.37-1) ...\n",
      "Setting up libgtk2.0-0:amd64 (2.24.32-1ubuntu1) ...\n",
      "Setting up libgail18:amd64 (2.24.32-1ubuntu1) ...\n",
      "Setting up x11-utils (7.7+3build1) ...\n",
      "Setting up libgail-common:amd64 (2.24.32-1ubuntu1) ...\n",
      "Setting up libatk-wrapper-java (0.33.3-20ubuntu0.1) ...\n",
      "Setting up libgtk2.0-bin (2.24.32-1ubuntu1) ...\n",
      "Setting up libatk-wrapper-java-jni:amd64 (0.33.3-20ubuntu0.1) ...\n",
      "Setting up openjdk-8-jre:amd64 (8u242-b08-0ubuntu3~18.04) ...\n",
      "update-alternatives: using /usr/lib/jvm/java-8-openjdk-amd64/jre/bin/policytool to provide /usr/bin/policytool (policytool) in auto mode\n",
      "Setting up openjdk-8-jdk:amd64 (8u242-b08-0ubuntu3~18.04) ...\n",
      "update-alternatives: using /usr/lib/jvm/java-8-openjdk-amd64/bin/appletviewer to provide /usr/bin/appletviewer (appletviewer) in auto mode\n",
      "update-alternatives: using /usr/lib/jvm/java-8-openjdk-amd64/bin/jconsole to provide /usr/bin/jconsole (jconsole) in auto mode\n",
      "Processing triggers for man-db (2.8.3-2ubuntu0.1) ...\n",
      "Processing triggers for hicolor-icon-theme (0.17-2) ...\n",
      "Processing triggers for fontconfig (2.12.6-0ubuntu2) ...\n",
      "Processing triggers for mime-support (3.60ubuntu1) ...\n",
      "Processing triggers for libc-bin (2.27-3ubuntu1) ...\n",
      "/sbin/ldconfig.real: /usr/local/lib/python3.6/dist-packages/ideep4py/lib/libmkldnn.so.0 is not a symbolic link\n",
      "\n",
      "Collecting konlpy\n",
      "\u001b[?25l  Downloading https://files.pythonhosted.org/packages/85/0e/f385566fec837c0b83f216b2da65db9997b35dd675e107752005b7d392b1/konlpy-0.5.2-py2.py3-none-any.whl (19.4MB)\n",
      "\u001b[K     |████████████████████████████████| 19.4MB 209kB/s \n",
      "\u001b[?25hRequirement already satisfied: numpy>=1.6 in /usr/local/lib/python3.6/dist-packages (from konlpy) (1.17.5)\n",
      "Collecting colorama\n",
      "  Downloading https://files.pythonhosted.org/packages/c9/dc/45cdef1b4d119eb96316b3117e6d5708a08029992b2fee2c143c7a0a5cc5/colorama-0.4.3-py2.py3-none-any.whl\n",
      "Collecting beautifulsoup4==4.6.0\n",
      "\u001b[?25l  Downloading https://files.pythonhosted.org/packages/9e/d4/10f46e5cfac773e22707237bfcd51bbffeaf0a576b0a847ec7ab15bd7ace/beautifulsoup4-4.6.0-py3-none-any.whl (86kB)\n",
      "\u001b[K     |████████████████████████████████| 92kB 8.4MB/s \n",
      "\u001b[?25hRequirement already satisfied: lxml>=4.1.0 in /usr/local/lib/python3.6/dist-packages (from konlpy) (4.2.6)\n",
      "Collecting JPype1>=0.7.0\n",
      "\u001b[?25l  Downloading https://files.pythonhosted.org/packages/d7/3c/1dbe5d6943b5c68e8df17c8b3a05db4725eadb5c7b7de437506aa3030701/JPype1-0.7.2-cp36-cp36m-manylinux1_x86_64.whl (2.4MB)\n",
      "\u001b[K     |████████████████████████████████| 2.4MB 32.8MB/s \n",
      "\u001b[?25hCollecting tweepy>=3.7.0\n",
      "  Downloading https://files.pythonhosted.org/packages/36/1b/2bd38043d22ade352fc3d3902cf30ce0e2f4bf285be3b304a2782a767aec/tweepy-3.8.0-py2.py3-none-any.whl\n",
      "Requirement already satisfied: six>=1.10.0 in /usr/local/lib/python3.6/dist-packages (from tweepy>=3.7.0->konlpy) (1.12.0)\n",
      "Requirement already satisfied: PySocks>=1.5.7 in /usr/local/lib/python3.6/dist-packages (from tweepy>=3.7.0->konlpy) (1.7.1)\n",
      "Requirement already satisfied: requests>=2.11.1 in /usr/local/lib/python3.6/dist-packages (from tweepy>=3.7.0->konlpy) (2.21.0)\n",
      "Requirement already satisfied: requests-oauthlib>=0.7.0 in /usr/local/lib/python3.6/dist-packages (from tweepy>=3.7.0->konlpy) (1.3.0)\n",
      "Requirement already satisfied: urllib3<1.25,>=1.21.1 in /usr/local/lib/python3.6/dist-packages (from requests>=2.11.1->tweepy>=3.7.0->konlpy) (1.24.3)\n",
      "Requirement already satisfied: idna<2.9,>=2.5 in /usr/local/lib/python3.6/dist-packages (from requests>=2.11.1->tweepy>=3.7.0->konlpy) (2.8)\n",
      "Requirement already satisfied: certifi>=2017.4.17 in /usr/local/lib/python3.6/dist-packages (from requests>=2.11.1->tweepy>=3.7.0->konlpy) (2019.11.28)\n",
      "Requirement already satisfied: chardet<3.1.0,>=3.0.2 in /usr/local/lib/python3.6/dist-packages (from requests>=2.11.1->tweepy>=3.7.0->konlpy) (3.0.4)\n",
      "Requirement already satisfied: oauthlib>=3.0.0 in /usr/local/lib/python3.6/dist-packages (from requests-oauthlib>=0.7.0->tweepy>=3.7.0->konlpy) (3.1.0)\n",
      "Installing collected packages: colorama, beautifulsoup4, JPype1, tweepy, konlpy\n",
      "  Found existing installation: beautifulsoup4 4.6.3\n",
      "    Uninstalling beautifulsoup4-4.6.3:\n",
      "      Successfully uninstalled beautifulsoup4-4.6.3\n",
      "  Found existing installation: tweepy 3.6.0\n",
      "    Uninstalling tweepy-3.6.0:\n",
      "      Successfully uninstalled tweepy-3.6.0\n",
      "Successfully installed JPype1-0.7.2 beautifulsoup4-4.6.0 colorama-0.4.3 konlpy-0.5.2 tweepy-3.8.0\n"
     ]
    }
   ],
   "source": [
    "!apt-get update\n",
    "!apt-get install g++ openjdk-8-jdk \n",
    "!pip3 install konlpy"
   ]
  },
  {
   "cell_type": "code",
   "execution_count": 1,
   "metadata": {
    "colab": {
     "base_uri": "https://localhost:8080/",
     "height": 63
    },
    "colab_type": "code",
    "executionInfo": {
     "elapsed": 2870,
     "status": "ok",
     "timestamp": 1583951096993,
     "user": {
      "displayName": "­정상형",
      "photoUrl": "",
      "userId": "11058725108837186820"
     },
     "user_tz": -540
    },
    "id": "fWgaTFNeZrN2",
    "outputId": "69e0ee05-155c-4726-f3d1-bddac875c34b"
   },
   "outputs": [
    {
     "data": {
      "text/html": [
       "<p style=\"color: red;\">\n",
       "The default version of TensorFlow in Colab will soon switch to TensorFlow 2.x.<br>\n",
       "We recommend you <a href=\"https://www.tensorflow.org/guide/migrate\" target=\"_blank\">upgrade</a> now \n",
       "or ensure your notebook will continue to use TensorFlow 1.x via the <code>%tensorflow_version 1.x</code> magic:\n",
       "<a href=\"https://colab.research.google.com/notebooks/tensorflow_version.ipynb\" target=\"_blank\">more info</a>.</p>\n"
      ],
      "text/plain": [
       "<IPython.core.display.HTML object>"
      ]
     },
     "metadata": {
      "tags": []
     },
     "output_type": "display_data"
    }
   ],
   "source": [
    "import urllib.request\n",
    "import pandas as pd\n",
    "import numpy as np\n",
    "from konlpy.tag import Okt\n",
    "import pickle\n",
    "from tensorflow.keras.preprocessing.sequence import pad_sequences\n",
    "from tensorflow.keras.layers import Embedding, Dense, LSTM\n",
    "from tensorflow.keras.models import Sequential\n",
    "from tensorflow.keras.models import load_model\n",
    "from tensorflow.keras.callbacks import EarlyStopping, ModelCheckpoint\n",
    "from gensim.models import FastText"
   ]
  },
  {
   "cell_type": "markdown",
   "metadata": {
    "colab_type": "text",
    "id": "CHCacyftgZrs"
   },
   "source": [
    "## 데이터 불러오기 및 전처리"
   ]
  },
  {
   "cell_type": "code",
   "execution_count": 2,
   "metadata": {
    "colab": {
     "base_uri": "https://localhost:8080/",
     "height": 34
    },
    "colab_type": "code",
    "executionInfo": {
     "elapsed": 2035,
     "status": "ok",
     "timestamp": 1583951101988,
     "user": {
      "displayName": "­정상형",
      "photoUrl": "",
      "userId": "11058725108837186820"
     },
     "user_tz": -540
    },
    "id": "4LNKmx13gXTe",
    "outputId": "a06541dc-eb85-4ba9-92d7-99b1f1a72bc3"
   },
   "outputs": [
    {
     "data": {
      "text/plain": [
       "('ratings_test.txt', <http.client.HTTPMessage at 0x7f2957114358>)"
      ]
     },
     "execution_count": 2,
     "metadata": {
      "tags": []
     },
     "output_type": "execute_result"
    }
   ],
   "source": [
    "### data를 받아오는 코드\n",
    "urllib.request.urlretrieve(\"https://raw.githubusercontent.com/e9t/nsmc/master/ratings_train.txt\", filename=\"ratings_train.txt\")\n",
    "urllib.request.urlretrieve(\"https://raw.githubusercontent.com/e9t/nsmc/master/ratings_test.txt\", filename=\"ratings_test.txt\")"
   ]
  },
  {
   "cell_type": "code",
   "execution_count": 0,
   "metadata": {
    "colab": {},
    "colab_type": "code",
    "id": "6RJl40TdZurj"
   },
   "outputs": [],
   "source": [
    "train_data = pd.read_table('ratings_train.txt')\n",
    "test_data = pd.read_table('ratings_test.txt')"
   ]
  },
  {
   "cell_type": "code",
   "execution_count": 4,
   "metadata": {
    "colab": {
     "base_uri": "https://localhost:8080/",
     "height": 34
    },
    "colab_type": "code",
    "executionInfo": {
     "elapsed": 374,
     "status": "ok",
     "timestamp": 1583951102993,
     "user": {
      "displayName": "­정상형",
      "photoUrl": "",
      "userId": "11058725108837186820"
     },
     "user_tz": -540
    },
    "id": "KHsH2PRqZwr6",
    "outputId": "f1fc7628-3bab-44fc-fe0d-31a78d1b20cc"
   },
   "outputs": [
    {
     "name": "stdout",
     "output_type": "stream",
     "text": [
      "150000\n"
     ]
    }
   ],
   "source": [
    "### train data는 150000개이고, label은 1이 긍정, 2가 부정으로 되어 있음\n",
    "print(train_data.__len__())\n",
    "train_data = train_data[:10000]"
   ]
  },
  {
   "cell_type": "code",
   "execution_count": 5,
   "metadata": {
    "colab": {
     "base_uri": "https://localhost:8080/",
     "height": 34
    },
    "colab_type": "code",
    "executionInfo": {
     "elapsed": 630,
     "status": "ok",
     "timestamp": 1583951105791,
     "user": {
      "displayName": "­정상형",
      "photoUrl": "",
      "userId": "11058725108837186820"
     },
     "user_tz": -540
    },
    "id": "lxY_FNflgfB0",
    "outputId": "0bb2a284-d94f-4bc2-b4b5-41e8c31cf333"
   },
   "outputs": [
    {
     "name": "stdout",
     "output_type": "stream",
     "text": [
      "50000\n"
     ]
    }
   ],
   "source": [
    "### test_data는 50000개\n",
    "print(test_data.__len__())\n",
    "test_data = test_data[:2000]"
   ]
  },
  {
   "cell_type": "code",
   "execution_count": 0,
   "metadata": {
    "colab": {},
    "colab_type": "code",
    "id": "mr8JJ5NMggQA"
   },
   "outputs": [],
   "source": [
    "### 텍스트 데이터 전치리 ( 특수 문자 제거 )\n",
    "train_data['document'] = train_data['document'].str.replace(\"[^ㄱ-ㅎㅏ-ㅣ가-힣 ]\",\"\")\n",
    "train_data['document'].replace('', np.nan, inplace=True)"
   ]
  },
  {
   "cell_type": "code",
   "execution_count": 7,
   "metadata": {
    "colab": {
     "base_uri": "https://localhost:8080/",
     "height": 123
    },
    "colab_type": "code",
    "executionInfo": {
     "elapsed": 658,
     "status": "ok",
     "timestamp": 1583951112867,
     "user": {
      "displayName": "­정상형",
      "photoUrl": "",
      "userId": "11058725108837186820"
     },
     "user_tz": -540
    },
    "id": "6GyoInKCghGl",
    "outputId": "21f0d798-f3e6-4891-a812-2f1210c22b74"
   },
   "outputs": [
    {
     "name": "stdout",
     "output_type": "stream",
     "text": [
      "47\n",
      "Empty DataFrame\n",
      "Columns: [id, document, label]\n",
      "Index: []\n",
      "9831\n",
      "9830\n"
     ]
    }
   ],
   "source": [
    "### 데이터 정제 ( 해당 데이터에 중복도 존재하고 document가 빈것이 있는지, NaN 데이터가 있는지 확인)\n",
    "print(train_data[train_data['document'].isna()].__len__())\n",
    "print(train_data[train_data['document'] == ''])\n",
    "train_data.drop_duplicates(subset=['document'], inplace=True)\n",
    "print(train_data.__len__())\n",
    "train_data.dropna(inplace=True)\n",
    "print(train_data.__len__())"
   ]
  },
  {
   "cell_type": "markdown",
   "metadata": {
    "colab_type": "text",
    "id": "7pHVGLnmgtOx"
   },
   "source": [
    "## 형태소 분석 ( 토큰화 )"
   ]
  },
  {
   "cell_type": "code",
   "execution_count": 0,
   "metadata": {
    "colab": {},
    "colab_type": "code",
    "id": "gbBS-NVSgiGL"
   },
   "outputs": [],
   "source": [
    "okt = Okt()\n",
    "\n",
    "def tokenizer_morphs(doc):\n",
    "    try:\n",
    "        doc = okt.pos(doc, norm=True, stem=True) ### Okt 패키지를 활용해 Tokenize\n",
    "        doc = [word[0] for word in doc if word[1] in ['Noun', 'Verb', 'Adjective', 'Adverb']]\n",
    "    except:\n",
    "        doc = []\n",
    "    ### 명사 동사 형용사 부사만 남김 ( 내맘 )\n",
    "    return doc"
   ]
  },
  {
   "cell_type": "code",
   "execution_count": 0,
   "metadata": {
    "colab": {},
    "colab_type": "code",
    "id": "HRyehPgqgixH"
   },
   "outputs": [],
   "source": [
    "train_data['document'] = train_data['document'].apply(tokenizer_morphs) ### 시간 오래 걸림 ( 저장하고 하는 것 추천 )\n",
    "test_data['document'] = test_data['document'].apply(tokenizer_morphs)\n",
    "\n",
    "with open('train_data.pkl', 'wb') as f:   ### pickle 데이터로 저장\n",
    "    pickle.dump(train_data, f)\n",
    "with open('test_data.pkl', 'wb') as f:   ### pickle 데이터로 저장\n",
    "    pickle.dump(test_data, f)"
   ]
  },
  {
   "cell_type": "code",
   "execution_count": 0,
   "metadata": {
    "colab": {},
    "colab_type": "code",
    "id": "NF-FcVEQgjkl"
   },
   "outputs": [],
   "source": [
    "with open('train_data.pkl', 'rb') as f:   ### pickle 데이터로 저장\n",
    "    train_data = pickle.load(f)\n",
    "with open('test_data.pkl', 'rb') as f:   ### pickle 데이터로 저장\n",
    "    test_data = pickle.load(f)"
   ]
  },
  {
   "cell_type": "markdown",
   "metadata": {
    "colab_type": "text",
    "id": "YA_Nnnz8gvWS"
   },
   "source": [
    "## 워드임베딩"
   ]
  },
  {
   "cell_type": "code",
   "execution_count": 11,
   "metadata": {
    "colab": {
     "base_uri": "https://localhost:8080/",
     "height": 72
    },
    "colab_type": "code",
    "executionInfo": {
     "elapsed": 68497,
     "status": "ok",
     "timestamp": 1583951188257,
     "user": {
      "displayName": "­정상형",
      "photoUrl": "",
      "userId": "11058725108837186820"
     },
     "user_tz": -540
    },
    "id": "cA-7UsqIgkb0",
    "outputId": "f2dd0913-aee0-46ae-bc3a-b2ec28b346f7"
   },
   "outputs": [
    {
     "name": "stderr",
     "output_type": "stream",
     "text": [
      "/usr/local/lib/python3.6/dist-packages/smart_open/smart_open_lib.py:402: UserWarning: This function is deprecated, use smart_open.open instead. See the migration notes for details: https://github.com/RaRe-Technologies/smart_open/blob/master/README.rst#migrating-to-the-new-open-function\n",
      "  'See the migration notes for details: %s' % _MIGRATION_NOTES_URL\n"
     ]
    }
   ],
   "source": [
    "### Fasttext 임베딩 모델 생성 ###\n",
    "model = FastText(train_data['document'].tolist(), size = 100, window = 5, min_count=1, workers=1)\n",
    "model.save(\"NaverMovie.vec\") ## 모델 저장"
   ]
  },
  {
   "cell_type": "code",
   "execution_count": 12,
   "metadata": {
    "colab": {
     "base_uri": "https://localhost:8080/",
     "height": 72
    },
    "colab_type": "code",
    "executionInfo": {
     "elapsed": 68541,
     "status": "ok",
     "timestamp": 1583951188961,
     "user": {
      "displayName": "­정상형",
      "photoUrl": "",
      "userId": "11058725108837186820"
     },
     "user_tz": -540
    },
    "id": "0les2b7cvGsY",
    "outputId": "c2dda29d-6c9d-4f39-dd60-f27e5ed8b52a"
   },
   "outputs": [
    {
     "name": "stderr",
     "output_type": "stream",
     "text": [
      "/usr/local/lib/python3.6/dist-packages/smart_open/smart_open_lib.py:402: UserWarning: This function is deprecated, use smart_open.open instead. See the migration notes for details: https://github.com/RaRe-Technologies/smart_open/blob/master/README.rst#migrating-to-the-new-open-function\n",
      "  'See the migration notes for details: %s' % _MIGRATION_NOTES_URL\n"
     ]
    }
   ],
   "source": [
    "model = FastText.load(\"NaverMovie.vec\")"
   ]
  },
  {
   "cell_type": "markdown",
   "metadata": {
    "colab_type": "text",
    "id": "8XMIjXlVgwnh"
   },
   "source": [
    "## LSTM에 집어 넣기 위한 데이터 전처리\n"
   ]
  },
  {
   "cell_type": "code",
   "execution_count": 0,
   "metadata": {
    "colab": {},
    "colab_type": "code",
    "id": "zCEUKCQ1lK76"
   },
   "outputs": [],
   "source": [
    "### 벡터로 변환\n",
    "for i, words in enumerate(train_data['document']):\n",
    "    for j, word in enumerate(words):\n",
    "        try:\n",
    "            words[j] = model.wv[word]\n",
    "        except:\n",
    "            words[j] = np.zeros(100)"
   ]
  },
  {
   "cell_type": "code",
   "execution_count": 0,
   "metadata": {
    "colab": {},
    "colab_type": "code",
    "id": "IUz7yJaa0JXF"
   },
   "outputs": [],
   "source": [
    "### 벡터로 변환\n",
    "for i, words in enumerate(test_data['document']):\n",
    "    for j, word in enumerate(words):\n",
    "        try:\n",
    "            words[j] = model.wv[word]\n",
    "        except:\n",
    "            words[j] = np.zeros(100)"
   ]
  },
  {
   "cell_type": "code",
   "execution_count": 15,
   "metadata": {
    "colab": {
     "base_uri": "https://localhost:8080/",
     "height": 105
    },
    "colab_type": "code",
    "executionInfo": {
     "elapsed": 66551,
     "status": "ok",
     "timestamp": 1583951195844,
     "user": {
      "displayName": "­정상형",
      "photoUrl": "",
      "userId": "11058725108837186820"
     },
     "user_tz": -540
    },
    "id": "a7QlNjGss5mD",
    "outputId": "b4eb856b-2879-4aa9-dd19-65f02c89fad4"
   },
   "outputs": [
    {
     "name": "stderr",
     "output_type": "stream",
     "text": [
      "/usr/local/lib/python3.6/dist-packages/pandas/core/indexing.py:205: SettingWithCopyWarning: \n",
      "A value is trying to be set on a copy of a slice from a DataFrame\n",
      "\n",
      "See the caveats in the documentation: http://pandas.pydata.org/pandas-docs/stable/user_guide/indexing.html#returning-a-view-versus-a-copy\n",
      "  self._setitem_with_indexer(indexer, value)\n"
     ]
    }
   ],
   "source": [
    "for i, words in enumerate(train_data['document']):\n",
    "    words = [np.zeros(100, dtype=np.float32)]*(54-len(words)) + words\n",
    "    train_data['document'].iloc[i] = words"
   ]
  },
  {
   "cell_type": "code",
   "execution_count": 0,
   "metadata": {
    "colab": {},
    "colab_type": "code",
    "id": "2dpWB2CB2nP6"
   },
   "outputs": [],
   "source": [
    "X_train = np.array(train_data['document'].tolist())\n",
    "X_test = np.array(test_data['document'].tolist())\n",
    "y_train = np.array(train_data['label'])\n",
    "y_test = np.array(train_data['label'])"
   ]
  },
  {
   "cell_type": "markdown",
   "metadata": {
    "colab_type": "text",
    "id": "vUlqd1qvjZrF"
   },
   "source": [
    "## LSTM"
   ]
  },
  {
   "cell_type": "code",
   "execution_count": 73,
   "metadata": {
    "colab": {
     "base_uri": "https://localhost:8080/",
     "height": 230
    },
    "colab_type": "code",
    "executionInfo": {
     "elapsed": 605,
     "status": "ok",
     "timestamp": 1583953028927,
     "user": {
      "displayName": "­정상형",
      "photoUrl": "",
      "userId": "11058725108837186820"
     },
     "user_tz": -540
    },
    "id": "f3XYeRwIgnDg",
    "outputId": "68e41a8e-3eaf-4663-d76b-5b51240ab641"
   },
   "outputs": [
    {
     "name": "stdout",
     "output_type": "stream",
     "text": [
      "Model: \"sequential_24\"\n",
      "_________________________________________________________________\n",
      "Layer (type)                 Output Shape              Param #   \n",
      "=================================================================\n",
      "lstm_18 (LSTM)               (None, 20)                9680      \n",
      "_________________________________________________________________\n",
      "dense_16 (Dense)             (None, 1)                 21        \n",
      "=================================================================\n",
      "Total params: 9,701\n",
      "Trainable params: 9,701\n",
      "Non-trainable params: 0\n",
      "_________________________________________________________________\n"
     ]
    }
   ],
   "source": [
    "lmodel = Sequential()\n",
    "lmodel.add(LSTM(20, input_shape = (54, 100)))\n",
    "lmodel.add(Dense(1, activation='sigmoid'))\n",
    "lmodel.summary()\n",
    "\n",
    "es = EarlyStopping(monitor='val_loss', mode='min', verbose=1, patience=4)\n",
    "mc = ModelCheckpoint('final_model.h5', monitor='val_acc', mode='max', verbose=1, save_best_only=True)"
   ]
  },
  {
   "cell_type": "code",
   "execution_count": 74,
   "metadata": {
    "colab": {
     "base_uri": "https://localhost:8080/",
     "height": 1000
    },
    "colab_type": "code",
    "executionInfo": {
     "elapsed": 106398,
     "status": "ok",
     "timestamp": 1583953139061,
     "user": {
      "displayName": "­정상형",
      "photoUrl": "",
      "userId": "11058725108837186820"
     },
     "user_tz": -540
    },
    "id": "QOlmu1Hlgn4G",
    "outputId": "bc4128e4-ae4b-4b01-9c6d-14025b81dc6c"
   },
   "outputs": [
    {
     "name": "stdout",
     "output_type": "stream",
     "text": [
      "Train on 7864 samples, validate on 1966 samples\n",
      "Epoch 1/15\n",
      "7800/7864 [============================>.] - ETA: 0s - loss: 0.6940 - acc: 0.5141\n",
      "Epoch 00001: val_acc improved from -inf to 0.52798, saving model to final_model.h5\n",
      "7864/7864 [==============================] - 9s 1ms/sample - loss: 0.6940 - acc: 0.5145 - val_loss: 0.6908 - val_acc: 0.5280\n",
      "Epoch 2/15\n",
      "7800/7864 [============================>.] - ETA: 0s - loss: 0.6922 - acc: 0.5218\n",
      "Epoch 00002: val_acc did not improve from 0.52798\n",
      "7864/7864 [==============================] - 6s 819us/sample - loss: 0.6922 - acc: 0.5216 - val_loss: 0.6909 - val_acc: 0.5259\n",
      "Epoch 3/15\n",
      "7800/7864 [============================>.] - ETA: 0s - loss: 0.6927 - acc: 0.5192\n",
      "Epoch 00003: val_acc did not improve from 0.52798\n",
      "7864/7864 [==============================] - 7s 842us/sample - loss: 0.6927 - acc: 0.5200 - val_loss: 0.6895 - val_acc: 0.5280\n",
      "Epoch 4/15\n",
      "7800/7864 [============================>.] - ETA: 0s - loss: 0.6909 - acc: 0.5317\n",
      "Epoch 00004: val_acc improved from 0.52798 to 0.53764, saving model to final_model.h5\n",
      "7864/7864 [==============================] - 7s 829us/sample - loss: 0.6908 - acc: 0.5319 - val_loss: 0.6889 - val_acc: 0.5376\n",
      "Epoch 5/15\n",
      "7800/7864 [============================>.] - ETA: 0s - loss: 0.6907 - acc: 0.5240\n",
      "Epoch 00005: val_acc improved from 0.53764 to 0.54324, saving model to final_model.h5\n",
      "7864/7864 [==============================] - 7s 841us/sample - loss: 0.6907 - acc: 0.5240 - val_loss: 0.6881 - val_acc: 0.5432\n",
      "Epoch 6/15\n",
      "7800/7864 [============================>.] - ETA: 0s - loss: 0.6897 - acc: 0.5301\n",
      "Epoch 00006: val_acc did not improve from 0.54324\n",
      "7864/7864 [==============================] - 7s 881us/sample - loss: 0.6897 - acc: 0.5303 - val_loss: 0.6886 - val_acc: 0.5407\n",
      "Epoch 7/15\n",
      "7800/7864 [============================>.] - ETA: 0s - loss: 0.6894 - acc: 0.5327\n",
      "Epoch 00007: val_acc did not improve from 0.54324\n",
      "7864/7864 [==============================] - 7s 872us/sample - loss: 0.6894 - acc: 0.5322 - val_loss: 0.6886 - val_acc: 0.5412\n",
      "Epoch 8/15\n",
      "7860/7864 [============================>.] - ETA: 0s - loss: 0.6898 - acc: 0.5302\n",
      "Epoch 00008: val_acc did not improve from 0.54324\n",
      "7864/7864 [==============================] - 7s 873us/sample - loss: 0.6898 - acc: 0.5301 - val_loss: 0.6884 - val_acc: 0.5392\n",
      "Epoch 9/15\n",
      "7860/7864 [============================>.] - ETA: 0s - loss: 0.6884 - acc: 0.5354\n",
      "Epoch 00009: val_acc improved from 0.54324 to 0.54476, saving model to final_model.h5\n",
      "7864/7864 [==============================] - 7s 880us/sample - loss: 0.6884 - acc: 0.5355 - val_loss: 0.6877 - val_acc: 0.5448\n",
      "Epoch 10/15\n",
      "7860/7864 [============================>.] - ETA: 0s - loss: 0.6883 - acc: 0.5398\n",
      "Epoch 00010: val_acc did not improve from 0.54476\n",
      "7864/7864 [==============================] - 7s 873us/sample - loss: 0.6882 - acc: 0.5399 - val_loss: 0.6868 - val_acc: 0.5392\n",
      "Epoch 11/15\n",
      "7860/7864 [============================>.] - ETA: 0s - loss: 0.6876 - acc: 0.5382\n",
      "Epoch 00011: val_acc did not improve from 0.54476\n",
      "7864/7864 [==============================] - 7s 869us/sample - loss: 0.6876 - acc: 0.5383 - val_loss: 0.6902 - val_acc: 0.5224\n",
      "Epoch 12/15\n",
      "7860/7864 [============================>.] - ETA: 0s - loss: 0.6878 - acc: 0.5438\n",
      "Epoch 00012: val_acc did not improve from 0.54476\n",
      "7864/7864 [==============================] - 7s 879us/sample - loss: 0.6878 - acc: 0.5439 - val_loss: 0.6862 - val_acc: 0.5422\n",
      "Epoch 13/15\n",
      "7860/7864 [============================>.] - ETA: 0s - loss: 0.6873 - acc: 0.5401\n",
      "Epoch 00013: val_acc did not improve from 0.54476\n",
      "7864/7864 [==============================] - 7s 869us/sample - loss: 0.6873 - acc: 0.5399 - val_loss: 0.6864 - val_acc: 0.5402\n",
      "Epoch 14/15\n",
      "7800/7864 [============================>.] - ETA: 0s - loss: 0.6871 - acc: 0.5383\n",
      "Epoch 00014: val_acc improved from 0.54476 to 0.54883, saving model to final_model.h5\n",
      "7864/7864 [==============================] - 7s 882us/sample - loss: 0.6869 - acc: 0.5388 - val_loss: 0.6859 - val_acc: 0.5488\n",
      "Epoch 15/15\n",
      "7860/7864 [============================>.] - ETA: 0s - loss: 0.6865 - acc: 0.5420\n",
      "Epoch 00015: val_acc did not improve from 0.54883\n",
      "7864/7864 [==============================] - 7s 858us/sample - loss: 0.6865 - acc: 0.5420 - val_loss: 0.6859 - val_acc: 0.5422\n"
     ]
    }
   ],
   "source": [
    "lmodel.compile(optimizer='Adam', loss='binary_crossentropy', metrics=['acc'])\n",
    "history = lmodel.fit(X_train, y_train, epochs=15, callbacks=[es, mc], batch_size=60, validation_split=0.2)"
   ]
  }
 ],
 "metadata": {
  "colab": {
   "authorship_tag": "ABX9TyM8zBUhdDCtYKQdQPpLehnZ",
   "collapsed_sections": [],
   "name": "RNN 과제.ipynb",
   "provenance": [],
   "toc_visible": true
  },
  "kernelspec": {
   "display_name": "Python 3",
   "language": "python",
   "name": "python3"
  },
  "language_info": {
   "codemirror_mode": {
    "name": "ipython",
    "version": 3
   },
   "file_extension": ".py",
   "mimetype": "text/x-python",
   "name": "python",
   "nbconvert_exporter": "python",
   "pygments_lexer": "ipython3",
   "version": "3.7.6"
  }
 },
 "nbformat": 4,
 "nbformat_minor": 1
}
